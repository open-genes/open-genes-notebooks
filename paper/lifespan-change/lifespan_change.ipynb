{
  "cells": [
    {
      "cell_type": "code",
      "execution_count": null,
      "id": "4edfb80a",
      "metadata": {
        "ExecuteTime": {
          "end_time": "2022-07-17T13:40:44.174273Z",
          "start_time": "2022-07-17T13:40:42.747993Z"
        },
        "id": "4edfb80a"
      },
      "outputs": [],
      "source": [
        "import pandas as pd"
      ]
    },
    {
      "cell_type": "code",
      "execution_count": null,
      "id": "5c4b950f",
      "metadata": {
        "ExecuteTime": {
          "end_time": "2022-07-17T13:45:10.122775Z",
          "start_time": "2022-07-17T13:45:10.107552Z"
        },
        "id": "5c4b950f"
      },
      "outputs": [],
      "source": [
        "column_names = [\n",
        "    'gene',\n",
        "    'organism',\n",
        "    'main_effect',  # main effect on lifespan\n",
        "    'result',  # effect on lifespan\n",
        "    'doi',\n",
        "    'method',  # intervention method\n",
        "    'intervention way',\n",
        "    'sex',\n",
        "    'line',\n",
        "    'control cohort size',\n",
        "    'experiment cohort size',\n",
        "    'quantity of animals in a cage or container',\n",
        "    'containment temperature (Celcius)',\n",
        "    'diet',\n",
        "    'target gene expression change',\n",
        "    'control lifespan - min',\n",
        "    'control lifespan - mean',\n",
        "    'control lifespan - median',\n",
        "    'control lifespan - max',\n",
        "    'experiment lifespan - min',\n",
        "    'experiment lifespan - mean',\n",
        "    'experiment lifespan - median',\n",
        "    'experiment lifespan - max',\n",
        "    'lifespan time unit',\n",
        "    'lifespan % change - min',\n",
        "    'significance_min',\n",
        "    'lifespan % change - mean',\n",
        "    'mean_significance',\n",
        "    'lifespan % change - median',\n",
        "    'median_significance',\n",
        "    'max',  # lifespan % change - max\n",
        "    'max_significance',\n",
        "    'intervention deteriorates',\n",
        "    'intervention improves',\n",
        "    'genotype',\n",
        "    'tissue',\n",
        "    'tissue specific promoter',\n",
        "    'induction by drug withdrawal',\n",
        "    'drug',\n",
        "    'treatment start',\n",
        "    'treatment end',\n",
        "    'pmid'\n",
        "]"
      ]
    },
    {
      "cell_type": "code",
      "execution_count": null,
      "id": "ed7492d2",
      "metadata": {
        "ExecuteTime": {
          "end_time": "2022-07-17T13:45:20.251914Z",
          "start_time": "2022-07-17T13:45:18.374352Z"
        },
        "id": "ed7492d2"
      },
      "outputs": [],
      "source": [
        "lifespan_change = pd.read_excel('./lifespan_change.xlsx', header=1, names=column_names)"
      ]
    },
    {
      "cell_type": "code",
      "execution_count": null,
      "id": "05749aeb",
      "metadata": {
        "ExecuteTime": {
          "end_time": "2022-07-17T13:45:21.375797Z",
          "start_time": "2022-07-17T13:45:21.356910Z"
        },
        "id": "05749aeb",
        "outputId": "17b41034-739d-4d58-a436-ba14dcaa1f9a",
        "colab": {
          "base_uri": "https://localhost:8080/"
        }
      },
      "outputs": [
        {
          "output_type": "execute_result",
          "data": {
            "text/plain": [
              "loss of function      280\n",
              "gain of function      103\n",
              "switch of function      5\n",
              "Name: main_effect, dtype: int64"
            ]
          },
          "metadata": {},
          "execution_count": 117
        }
      ],
      "source": [
        "lifespan_change[\"main_effect\"].value_counts()"
      ]
    },
    {
      "cell_type": "code",
      "execution_count": null,
      "id": "56198871",
      "metadata": {
        "ExecuteTime": {
          "end_time": "2022-07-17T13:47:38.202545Z",
          "start_time": "2022-07-17T13:47:38.192635Z"
        },
        "id": "56198871",
        "outputId": "caefa7dd-a5f7-4fd6-fa53-fcb2d88cebc9",
        "colab": {
          "base_uri": "https://localhost:8080/"
        }
      },
      "outputs": [
        {
          "output_type": "execute_result",
          "data": {
            "text/plain": [
              "increases lifespan    203\n",
              "decreases lifespan    175\n",
              "no change              10\n",
              "Name: result, dtype: int64"
            ]
          },
          "metadata": {},
          "execution_count": 118
        }
      ],
      "source": [
        "lifespan_change[\"result\"].value_counts()"
      ]
    },
    {
      "cell_type": "code",
      "execution_count": null,
      "id": "ece38026",
      "metadata": {
        "ExecuteTime": {
          "end_time": "2022-07-17T13:47:39.103865Z",
          "start_time": "2022-07-17T13:47:39.093187Z"
        },
        "id": "ece38026"
      },
      "outputs": [],
      "source": [
        "#lifespan_change = lifespan_change[\n",
        "    #(lifespan_change['mean_significance'] == True) | (lifespan_change['median_significance'] == False)\n",
        "#].reset_index(drop=True)\n",
        "#lifespan_change = lifespan_change[~lifespan_change['result'].isna()]"
      ]
    },
    {
      "cell_type": "code",
      "execution_count": null,
      "id": "00cb8667",
      "metadata": {
        "ExecuteTime": {
          "end_time": "2022-07-17T14:47:11.619769Z",
          "start_time": "2022-07-17T14:47:11.616703Z"
        },
        "id": "00cb8667"
      },
      "outputs": [],
      "source": [
        "INCREASE = {\n",
        "    'increases lifespan',\n",
        "    'increases life expectancy in animals with reduced life spans',\n",
        "}\n",
        "DECREASE = {\n",
        "    'decreases lifespan',\n",
        "    'decreases life expectancy in animals with increased life spans',\n",
        "    'decreases lifespan in animals with increased lifespans',\n",
        "}"
      ]
    },
    {
      "cell_type": "markdown",
      "id": "dc900a99",
      "metadata": {
        "id": "dc900a99"
      },
      "source": [
        "## BIO-528"
      ]
    },
    {
      "cell_type": "code",
      "execution_count": null,
      "id": "c007d4bb",
      "metadata": {
        "ExecuteTime": {
          "end_time": "2022-07-17T14:53:40.560638Z",
          "start_time": "2022-07-17T14:53:40.558091Z"
        },
        "id": "c007d4bb"
      },
      "outputs": [],
      "source": [
        "SORT_COLS = ['gene', 'organism', 'max']"
      ]
    },
    {
      "cell_type": "code",
      "execution_count": null,
      "id": "835aaca5",
      "metadata": {
        "ExecuteTime": {
          "end_time": "2022-07-17T14:53:40.756103Z",
          "start_time": "2022-07-17T14:53:40.747208Z"
        },
        "id": "835aaca5",
        "colab": {
          "base_uri": "https://localhost:8080/"
        },
        "outputId": "f56e1d94-96c8-467a-de8f-36f77310601c"
      },
      "outputs": [
        {
          "output_type": "stream",
          "name": "stdout",
          "text": [
            "Looking in indexes: https://pypi.org/simple, https://us-python.pkg.dev/colab-wheels/public/simple/\n",
            "Requirement already satisfied: xlsxwriter in /usr/local/lib/python3.7/dist-packages (3.0.3)\n"
          ]
        }
      ],
      "source": [
        "!pip install xlsxwriter\n",
        "writer = pd.ExcelWriter('genes_filtered.xlsx', engine='xlsxwriter')"
      ]
    },
    {
      "cell_type": "markdown",
      "id": "0dce4b81",
      "metadata": {
        "id": "0dce4b81"
      },
      "source": [
        "**Аббревиатуры:**\n",
        "\n",
        "Exp -- эксперимент какого-то одного гена\n",
        "\n",
        "∃ -- существует\n",
        "\n",
        "∃! -- существует только один\n",
        "\n",
        "∀ -- для любого\n",
        "\n",
        "OR -- ИЛИ, то есть требование выполнения одного из условий\n",
        "\n",
        "AND -- И, то есть требование выполнения двух условий"
      ]
    },
    {
      "cell_type": "code",
      "execution_count": null,
      "id": "28b5c133",
      "metadata": {
        "ExecuteTime": {
          "end_time": "2022-07-17T14:53:41.586470Z",
          "start_time": "2022-07-17T14:53:41.334149Z"
        },
        "id": "28b5c133"
      },
      "outputs": [],
      "source": [
        "ALL_INFO: dict = {\n",
        "    \"case_1\": {},\n",
        "    \"case_2\": {},\n",
        "    \"case_3\": {},\n",
        "    \"case_4\": {},\n",
        "    \"case_5\": {},\n",
        "}\n",
        "\n",
        "# case 1.\n",
        "ALL_INFO[\"case_1\"][\"need_gain_genes\"] = []\n",
        "ALL_INFO[\"case_1\"][\"need_loss_genes\"] = []\n",
        "\n",
        "# case 2.\n",
        "ALL_INFO[\"case_2\"][\"improve_increase_multiple\"] = []\n",
        "ALL_INFO[\"case_2\"][\"decline_increase_multiple\"] = []\n",
        "\n",
        "# case 3.\n",
        "ALL_INFO[\"case_3\"][\"improve_increase_one\"] = []\n",
        "ALL_INFO[\"case_3\"][\"decline_increase_one\"] = []\n",
        "\n",
        "# case 4.\n",
        "ALL_INFO[\"case_4\"][\"bad_loss_only\"] = []\n",
        "ALL_INFO[\"case_4\"][\"bad_gain_only\"] = []\n",
        "ALL_INFO[\"case_4\"][\"bad_increase_only\"] = []\n",
        "ALL_INFO[\"case_4\"][\"bad_decrease_only\"] = []\n",
        "ALL_INFO[\"case_4\"][\"mixed\"] = []\n",
        "\n",
        "# case 5.\n",
        "ALL_INFO[\"case_5\"][\"decrease_only_gain\"] = []\n",
        "ALL_INFO[\"case_5\"][\"decrease_only_loss\"] = []\n",
        "\n",
        "\n",
        "INTERSECTS = {\n",
        "    \"gain increase\": [(\"gain of function\", x) for x in INCREASE],\n",
        "    \"loss increase\": [(\"loss of function\", x) for x in INCREASE],\n",
        "    \"gain decrease\": [(\"gain of function\", x) for x in DECREASE],\n",
        "    \"loss decrease\": [(\"loss of function\", x) for x in DECREASE],\n",
        "}\n",
        "\n",
        "for gene, rows in lifespan_change.groupby('gene'):\n",
        "    # Example:\n",
        "    #     main_effect       result\n",
        "    # loss of function  decreases lifespan    2\n",
        "    #                   increases lifespan    2\n",
        "    # Name: result, dtype: int64\n",
        "    effect_info = rows.groupby('main_effect')['result'].value_counts()\n",
        "\n",
        "    info = {}\n",
        "    for x in effect_info.index:\n",
        "        for k, v in INTERSECTS.items():\n",
        "            if x in v:\n",
        "                info[k] = effect_info[x]\n",
        "\n",
        "    # case 1.\n",
        "    # ∀ Exp ∃ gain increase AND ∃ loss decrease AND Exp > 1\n",
        "    if sorted([\"gain increase\", \"loss decrease\"]) == sorted(list(info.keys())):\n",
        "        ALL_INFO[\"case_1\"][\"need_gain_genes\"].append(gene)\n",
        "        continue\n",
        "    # ∀ Exp ∃ loss increase AND ∃ gain decrease AND Exp > 1\n",
        "    if sorted([\"loss increase\", \"gain decrease\"]) == sorted(list(info.keys())):\n",
        "        ALL_INFO[\"case_1\"][\"need_loss_genes\"].append(gene)\n",
        "        continue\n",
        "\n",
        "    # case 2.\n",
        "    # ∀ Exp ∃ gain increase AND Exp > 1\n",
        "    if [\"gain increase\"] == list(info.keys()) and info[\"gain increase\"] > 1:\n",
        "        ALL_INFO[\"case_2\"][\"improve_increase_multiple\"].append(gene)\n",
        "        continue\n",
        "    # ∀ Exp ∃ loss increase AND Exp > 1\n",
        "    if [\"loss increase\"] == list(info.keys()) and info[\"loss increase\"] > 1:\n",
        "        ALL_INFO[\"case_2\"][\"decline_increase_multiple\"].append(gene)\n",
        "        continue\n",
        "\n",
        "    # case 3.\n",
        "    # ∀ Exp ∃ gain increase AND Exp == 1\n",
        "    if [\"gain increase\"] == list(info.keys()) and info[\"gain increase\"] == 1:\n",
        "        ALL_INFO[\"case_3\"][\"improve_increase_one\"].append(gene)\n",
        "        continue\n",
        "    # ∀ Exp ∃ loss increase AND Exp == 1\n",
        "    if [\"loss increase\"] == list(info.keys()) and info[\"loss increase\"] == 1:\n",
        "        ALL_INFO[\"case_3\"][\"decline_increase_one\"].append(gene)\n",
        "        continue\n",
        "\n",
        "    # case 5.\n",
        "    # ∀ Exp ∃ gain decrease\n",
        "    if [\"gain decrease\"] == list(info.keys()):\n",
        "        ALL_INFO[\"case_5\"][\"decrease_only_gain\"].append(gene)\n",
        "        continue\n",
        "    # ∀ Exp ∃ loss decrease\n",
        "    if [\"loss decrease\"] == list(info.keys()):\n",
        "        ALL_INFO[\"case_5\"][\"decrease_only_loss\"].append(gene)\n",
        "        continue\n",
        "\n",
        "    # case 4.\n",
        "    # a) ∀ Exp ∃ loss increase AND ∃ loss decrease AND Exp > 1\n",
        "    if sorted([\"loss increase\", \"loss decrease\"]) == sorted(list(info.keys())):\n",
        "        ALL_INFO[\"case_4\"][\"bad_loss_only\"].append(gene)\n",
        "        continue\n",
        "    # b) ∀ Exp ∃ **gain increase** AND ∃ **gain decrease** AND Exp > 1\n",
        "    if sorted([\"gain increase\", \"gain decrease\"]) == sorted(list(info.keys())):\n",
        "        ALL_INFO[\"case_4\"][\"bad_gain_only\"].append(gene)\n",
        "        continue\n",
        "    # c) ∀ Exp ∃ **gain increase** AND ∃ **loss increase** AND Exp > 1\n",
        "    if sorted([\"gain increase\", \"loss increase\"]) == sorted(list(info.keys())):\n",
        "        ALL_INFO[\"case_4\"][\"bad_increase_only\"].append(gene)\n",
        "        continue\n",
        "    # d) ∀ Exp ∃ **gain decrease** AND ∃ **loss decrease** AND Exp > 1\n",
        "    if sorted([\"gain decrease\", \"loss decrease\"]) == sorted(list(info.keys())):\n",
        "        ALL_INFO[\"case_4\"][\"bad_decrease_only\"].append(gene)\n",
        "        continue\n",
        "\n",
        "    # c) other.\n",
        "    ALL_INFO[\"case_4\"][\"mixed\"].append(gene)\n",
        "\n",
        "# case 1.\n",
        "lifespan_change[\n",
        "    lifespan_change['gene'].isin(ALL_INFO[\"case_1\"][\"need_gain_genes\"])\n",
        "].sort_values(by=SORT_COLS).to_excel(writer, sheet_name='need_gain_genes', index=False)\n",
        "lifespan_change[\n",
        "    lifespan_change['gene'].isin(ALL_INFO[\"case_1\"][\"need_loss_genes\"])\n",
        "].sort_values(by=SORT_COLS).to_excel(writer, sheet_name='need_loss_genes', index=False)\n",
        "\n",
        "# case 2.\n",
        "lifespan_change[\n",
        "    lifespan_change['gene'].isin(ALL_INFO[\"case_2\"][\"improve_increase_multiple\"])\n",
        "].sort_values(by=SORT_COLS).to_excel(writer, sheet_name='improve_increase_multiple', index=False)\n",
        "lifespan_change[\n",
        "    lifespan_change['gene'].isin(ALL_INFO[\"case_2\"][\"decline_increase_multiple\"])\n",
        "].sort_values(by=SORT_COLS).to_excel(writer, sheet_name='decline_increase_multiple', index=False)\n",
        "\n",
        "# case 3.\n",
        "lifespan_change[\n",
        "    lifespan_change['gene'].isin(ALL_INFO[\"case_3\"][\"improve_increase_one\"])\n",
        "].sort_values(by=SORT_COLS).to_excel(writer, sheet_name='improve_increase_one', index=False)\n",
        "lifespan_change[\n",
        "    lifespan_change['gene'].isin(ALL_INFO[\"case_3\"][\"decline_increase_one\"])\n",
        "].sort_values(by=SORT_COLS).to_excel(writer, sheet_name='decline_increase_one', index=False)\n",
        "\n",
        "# case 4.\n",
        "lifespan_change[\n",
        "    lifespan_change['gene'].isin(ALL_INFO[\"case_4\"][\"bad_loss_only\"])\n",
        "].sort_values(by=SORT_COLS).to_excel(writer, sheet_name='bad_loss_only', index=False)\n",
        "lifespan_change[\n",
        "    lifespan_change['gene'].isin(ALL_INFO[\"case_4\"][\"bad_gain_only\"])\n",
        "].sort_values(by=SORT_COLS).to_excel(writer, sheet_name='bad_gain_only', index=False)\n",
        "lifespan_change[\n",
        "    lifespan_change['gene'].isin(ALL_INFO[\"case_4\"][\"bad_increase_only\"])\n",
        "].sort_values(by=SORT_COLS).to_excel(writer, sheet_name='bad_increase_only', index=False)\n",
        "lifespan_change[\n",
        "    lifespan_change['gene'].isin(ALL_INFO[\"case_4\"][\"bad_decrease_only\"])\n",
        "].sort_values(by=SORT_COLS).to_excel(writer, sheet_name='bad_decrease_only', index=False)\n",
        "lifespan_change[\n",
        "    lifespan_change['gene'].isin(ALL_INFO[\"case_4\"][\"mixed\"])\n",
        "].sort_values(by=SORT_COLS).to_excel(writer, sheet_name='mixed', index=False)\n",
        "\n",
        "# case 5.\n",
        "lifespan_change[\n",
        "    lifespan_change['gene'].isin(ALL_INFO[\"case_5\"][\"decrease_only_gain\"])\n",
        "].sort_values(by=SORT_COLS).to_excel(writer, sheet_name='decrease_only_gain', index=False)\n",
        "lifespan_change[\n",
        "    lifespan_change['gene'].isin(ALL_INFO[\"case_5\"][\"decrease_only_loss\"])\n",
        "].sort_values(by=SORT_COLS).to_excel(writer, sheet_name='decrease_only_loss', index=False)"
      ]
    },
    {
      "cell_type": "code",
      "execution_count": null,
      "id": "c8295109",
      "metadata": {
        "ExecuteTime": {
          "end_time": "2022-07-17T14:53:42.744819Z",
          "start_time": "2022-07-17T14:53:42.638467Z"
        },
        "id": "c8295109"
      },
      "outputs": [],
      "source": [
        "writer.save()"
      ]
    },
    {
      "cell_type": "code",
      "execution_count": null,
      "id": "031697f1",
      "metadata": {
        "ExecuteTime": {
          "end_time": "2022-07-17T15:07:13.236437Z",
          "start_time": "2022-07-17T15:07:13.233302Z"
        },
        "id": "031697f1"
      },
      "outputs": [],
      "source": [
        "MAP_NAMES = {\n",
        "    \"case_1\": \"Consistent for GF and LF\",\n",
        "    \"case_2\": \"Increase, multiple experiments\",\n",
        "    \"case_3\": \"Increase, one experiment\",\n",
        "    \"case_4\": \"Conflicting\",\n",
        "    \"case_5\": \"Decrease only\"\n",
        "}\n"
      ]
    },
    {
      "cell_type": "code",
      "execution_count": null,
      "id": "21de5f12",
      "metadata": {
        "ExecuteTime": {
          "end_time": "2022-07-17T15:07:13.518867Z",
          "start_time": "2022-07-17T15:07:13.421499Z"
        },
        "id": "21de5f12",
        "outputId": "4e588979-660d-4df0-f5b8-46362ed20870",
        "colab": {
          "base_uri": "https://localhost:8080/",
          "height": 303
        }
      },
      "outputs": [
        {
          "output_type": "display_data",
          "data": {
            "text/plain": [
              "<Figure size 360x360 with 1 Axes>"
            ],
            "image/png": "[encoded data removed]"
          },
          "metadata": {}
        }
      ],
      "source": [
        "import matplotlib.pyplot as plt\n",
        "import seaborn as sns\n",
        "\n",
        "#define data\n",
        "labels= [MAP_NAMES[x] for x in ALL_INFO.keys()]\n",
        "data = []\n",
        "for k, v in ALL_INFO.items():\n",
        "    s = 0\n",
        "    for _, l in v.items():\n",
        "        s += len(l)\n",
        "    data.append(s)\n",
        "\n",
        "fig = plt.figure(figsize = (5, 5))\n",
        "\n",
        "#define Seaborn color palette to use\n",
        "colors = sns.color_palette('pastel')[0:len(labels)]\n",
        "#create pie chart\n",
        "plt.pie(\n",
        "    data,\n",
        "    labels=labels,\n",
        "    colors=colors,\n",
        "    autopct='%.0f%%'\n",
        ")\n",
        "plt.show()"
      ]
    },
    {
      "cell_type": "code",
      "execution_count": null,
      "id": "3079fa0a",
      "metadata": {
        "ExecuteTime": {
          "end_time": "2022-07-17T15:07:53.426694Z",
          "start_time": "2022-07-17T15:07:53.346579Z"
        },
        "id": "3079fa0a",
        "outputId": "e6f2056a-1c26-49c5-a9fc-081c01fede86"
      },
      "outputs": [
        {
          "data": {
            "image/png": "[encoded data removed]",
            "text/plain": [
              "<Figure size 432x288 with 1 Axes>"
            ]
          },
          "metadata": {
            "needs_background": "light"
          },
          "output_type": "display_data"
        }
      ],
      "source": [
        "plt.bar(\n",
        "    x=list(ALL_INFO[\"case_1\"].keys()),\n",
        "    height=[len(v) for v in ALL_INFO[\"case_1\"].values()],\n",
        "    color=sns.color_palette('pastel')[0]\n",
        ")\n",
        "plt.ylabel(\"Number of genes\")\n",
        "plt.title(MAP_NAMES[\"case_1\"])\n",
        "plt.show()"
      ]
    },
    {
      "cell_type": "code",
      "execution_count": null,
      "id": "44f21d53",
      "metadata": {
        "ExecuteTime": {
          "end_time": "2022-07-17T15:08:14.720164Z",
          "start_time": "2022-07-17T15:08:14.641090Z"
        },
        "id": "44f21d53",
        "outputId": "ac83f497-bc63-4d27-fbfe-821478e78491"
      },
      "outputs": [
        {
          "data": {
            "image/png": "[encoded data removed]",
            "text/plain": [
              "<Figure size 432x288 with 1 Axes>"
            ]
          },
          "metadata": {
            "needs_background": "light"
          },
          "output_type": "display_data"
        }
      ],
      "source": [
        "plt.bar(\n",
        "    x=list(ALL_INFO[\"case_2\"].keys()),\n",
        "    height=[len(v) for v in ALL_INFO[\"case_2\"].values()],\n",
        "    color=sns.color_palette('pastel')[1]\n",
        ")\n",
        "plt.ylabel(\"Number of genes\")\n",
        "plt.title(MAP_NAMES[\"case_2\"])\n",
        "plt.show()"
      ]
    },
    {
      "cell_type": "code",
      "execution_count": null,
      "id": "e4bd88f7",
      "metadata": {
        "ExecuteTime": {
          "end_time": "2022-07-17T15:08:32.994639Z",
          "start_time": "2022-07-17T15:08:32.913474Z"
        },
        "id": "e4bd88f7",
        "outputId": "3da4a300-7a0a-457a-d08e-457e75508a42"
      },
      "outputs": [
        {
          "data": {
            "image/png": "[encoded data removed]",
            "text/plain": [
              "<Figure size 432x288 with 1 Axes>"
            ]
          },
          "metadata": {
            "needs_background": "light"
          },
          "output_type": "display_data"
        }
      ],
      "source": [
        "plt.bar(\n",
        "    x=list(ALL_INFO[\"case_3\"].keys()),\n",
        "    height=[len(v) for v in ALL_INFO[\"case_3\"].values()],\n",
        "    color=sns.color_palette('pastel')[2]\n",
        ")\n",
        "plt.ylabel(\"Number of genes\")\n",
        "plt.title(MAP_NAMES[\"case_3\"])\n",
        "plt.show()"
      ]
    },
    {
      "cell_type": "code",
      "execution_count": null,
      "id": "79245936",
      "metadata": {
        "ExecuteTime": {
          "end_time": "2022-07-17T15:07:40.407351Z",
          "start_time": "2022-07-17T15:07:40.314815Z"
        },
        "id": "79245936",
        "outputId": "980e79fc-56c0-44ec-b986-5bd1405a750d"
      },
      "outputs": [
        {
          "data": {
            "image/png": "[encoded data removed]",
            "text/plain": [
              "<Figure size 720x360 with 1 Axes>"
            ]
          },
          "metadata": {
            "needs_background": "light"
          },
          "output_type": "display_data"
        }
      ],
      "source": [
        "fig = plt.figure(figsize = (10, 5))\n",
        "plt.bar(\n",
        "    x=list(ALL_INFO[\"case_4\"].keys()),\n",
        "    height=[len(v) for v in ALL_INFO[\"case_4\"].values()],\n",
        "    color=sns.color_palette('pastel')[3]\n",
        ")\n",
        "plt.ylabel(\"Number of genes\")\n",
        "plt.title(MAP_NAMES[\"case_4\"])\n",
        "plt.show()"
      ]
    },
    {
      "cell_type": "code",
      "execution_count": null,
      "id": "f07b6632",
      "metadata": {
        "ExecuteTime": {
          "end_time": "2022-07-17T15:08:46.279941Z",
          "start_time": "2022-07-17T15:08:46.201653Z"
        },
        "id": "f07b6632",
        "outputId": "a0045953-3699-4974-8284-968d65a7b00d"
      },
      "outputs": [
        {
          "data": {
            "image/png": "[encoded data removed]",
            "text/plain": [
              "<Figure size 432x288 with 1 Axes>"
            ]
          },
          "metadata": {
            "needs_background": "light"
          },
          "output_type": "display_data"
        }
      ],
      "source": [
        "plt.bar(\n",
        "    x=list(ALL_INFO[\"case_5\"].keys()),\n",
        "    height=[len(v) for v in ALL_INFO[\"case_5\"].values()],\n",
        "    color=sns.color_palette('pastel')[4]\n",
        ")\n",
        "plt.ylabel(\"Number of genes\")\n",
        "plt.title(MAP_NAMES[\"case_5\"])\n",
        "plt.show()"
      ]
    },
    {
      "cell_type": "code",
      "execution_count": null,
      "id": "92559d7f",
      "metadata": {
        "id": "92559d7f"
      },
      "outputs": [],
      "source": []
    }
  ],
  "metadata": {
    "kernelspec": {
      "display_name": "Python 3 (ipykernel)",
      "language": "python",
      "name": "python3"
    },
    "language_info": {
      "codemirror_mode": {
        "name": "ipython",
        "version": 3
      },
      "file_extension": ".py",
      "mimetype": "text/x-python",
      "name": "python",
      "nbconvert_exporter": "python",
      "pygments_lexer": "ipython3",
      "version": "3.9.13"
    },
    "toc": {
      "base_numbering": 1,
      "nav_menu": {},
      "number_sections": true,
      "sideBar": true,
      "skip_h1_title": false,
      "title_cell": "Table of Contents",
      "title_sidebar": "Contents",
      "toc_cell": false,
      "toc_position": {
        "height": "calc(100% - 180px)",
        "left": "10px",
        "top": "150px",
        "width": "365.333px"
      },
      "toc_section_display": true,
      "toc_window_display": true
    },
    "colab": {
      "provenance": []
    }
  },
  "nbformat": 4,
  "nbformat_minor": 5
}