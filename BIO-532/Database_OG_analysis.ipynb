{
 "cells": [
  {
   "cell_type": "code",
   "execution_count": 2,
   "id": "8e1c9806",
   "metadata": {
    "ExecuteTime": {
     "end_time": "2021-12-21T08:13:43.729751Z",
     "start_time": "2021-12-21T08:13:42.338513Z"
    }
   },
   "outputs": [],
   "source": [
    "import json\n",
    "import requests\n",
    "\n",
    "import pandas as pd\n",
    "import numpy as np\n",
    "\n",
    "import matplotlib\n",
    "import matplotlib.pyplot as plt\n",
    "import seaborn as sns"
   ]
  },
  {
   "cell_type": "code",
   "execution_count": 3,
   "id": "2f7a94de",
   "metadata": {
    "ExecuteTime": {
     "end_time": "2021-12-21T08:13:44.874278Z",
     "start_time": "2021-12-21T08:13:43.732116Z"
    }
   },
   "outputs": [],
   "source": [
    "get_all_info_about_genes = requests.get(\"https://open-genes.com/api/gene/\")\n",
    "all_info_about_genes = json.loads(get_all_info_about_genes.text)"
   ]
  },
  {
   "cell_type": "code",
   "execution_count": 4,
   "id": "02068a48",
   "metadata": {
    "ExecuteTime": {
     "end_time": "2021-12-21T08:13:44.954550Z",
     "start_time": "2021-12-21T08:13:44.876115Z"
    }
   },
   "outputs": [
    {
     "data": {
      "text/html": [
       "<div>\n",
       "<style scoped>\n",
       "    .dataframe tbody tr th:only-of-type {\n",
       "        vertical-align: middle;\n",
       "    }\n",
       "\n",
       "    .dataframe tbody tr th {\n",
       "        vertical-align: top;\n",
       "    }\n",
       "\n",
       "    .dataframe thead th {\n",
       "        text-align: right;\n",
       "    }\n",
       "</style>\n",
       "<table border=\"1\" class=\"dataframe\">\n",
       "  <thead>\n",
       "    <tr style=\"text-align: right;\">\n",
       "      <th></th>\n",
       "      <th>id</th>\n",
       "      <th>origin</th>\n",
       "      <th>familyOrigin</th>\n",
       "      <th>homologueTaxon</th>\n",
       "      <th>symbol</th>\n",
       "      <th>aliases</th>\n",
       "      <th>diseases</th>\n",
       "      <th>diseaseCategories</th>\n",
       "      <th>name</th>\n",
       "      <th>ncbiId</th>\n",
       "      <th>commentCause</th>\n",
       "      <th>uniprot</th>\n",
       "      <th>functionalClusters</th>\n",
       "      <th>expressionChange</th>\n",
       "      <th>timestamp</th>\n",
       "      <th>ensembl</th>\n",
       "      <th>methylationCorrelation</th>\n",
       "      <th>agingMechanisms</th>\n",
       "      <th>source</th>\n",
       "    </tr>\n",
       "  </thead>\n",
       "  <tbody>\n",
       "    <tr>\n",
       "      <th>0</th>\n",
       "      <td>114</td>\n",
       "      <td>None</td>\n",
       "      <td>{'id': 24, 'phylum': '', 'age': '', 'order': 25}</td>\n",
       "      <td>Euteleostomi</td>\n",
       "      <td>FAS</td>\n",
       "      <td>[ALPS1A, APO-1, APT1, CD95, FAS1, FASTM, TNFRSF6]</td>\n",
       "      <td>{'160': {'icdCode': 'D47.9', 'icdName': 'Новоо...</td>\n",
       "      <td>{'685': {'icdCode': 'D37-D48', 'icdCategoryNam...</td>\n",
       "      <td>Fas cell surface death receptor</td>\n",
       "      <td>355</td>\n",
       "      <td>{'9': 'Возрастные изменения экспрессии гена/ак...</td>\n",
       "      <td>TNR6_HUMAN</td>\n",
       "      <td>[{'id': 10, 'name': 'иммунная функция'}, {'id'...</td>\n",
       "      <td>2</td>\n",
       "      <td>{'changed': '1638463685', 'created': None}</td>\n",
       "      <td>ENSG00000026103</td>\n",
       "      <td></td>\n",
       "      <td>[{'id': 22, 'name': 'нарушения межклеточного в...</td>\n",
       "      <td>[GeneAge]</td>\n",
       "    </tr>\n",
       "    <tr>\n",
       "      <th>1</th>\n",
       "      <td>252</td>\n",
       "      <td>None</td>\n",
       "      <td>{'id': 24, 'phylum': '', 'age': '', 'order': 25}</td>\n",
       "      <td>Euteleostomi</td>\n",
       "      <td>HIC1</td>\n",
       "      <td>[ZBTB29, ZNF901, hic-1]</td>\n",
       "      <td>[]</td>\n",
       "      <td>[]</td>\n",
       "      <td>hypermethylated in cancer 1</td>\n",
       "      <td>3090</td>\n",
       "      <td>{'10': 'Ген регулирует связанные со старением ...</td>\n",
       "      <td>HIC1_HUMAN</td>\n",
       "      <td>[{'id': 27, 'name': 'сигналинг'}, {'id': 3, 'n...</td>\n",
       "      <td>0</td>\n",
       "      <td>{'changed': '1638372646', 'created': None}</td>\n",
       "      <td>ENSG00000177374</td>\n",
       "      <td></td>\n",
       "      <td>[{'id': 19, 'name': 'накопление сенесцентных к...</td>\n",
       "      <td>[GeneAge]</td>\n",
       "    </tr>\n",
       "    <tr>\n",
       "      <th>2</th>\n",
       "      <td>325</td>\n",
       "      <td>None</td>\n",
       "      <td>{'id': 24, 'phylum': '', 'age': '', 'order': 25}</td>\n",
       "      <td></td>\n",
       "      <td>MT-RNR1</td>\n",
       "      <td>[MTRNR1]</td>\n",
       "      <td>{'194': {'icdCode': 'H90.3', 'icdName': 'Нейро...</td>\n",
       "      <td>{'795': {'icdCode': 'H90-H95', 'icdCategoryNam...</td>\n",
       "      <td>mitochondrially encoded 12S RNA</td>\n",
       "      <td>4549</td>\n",
       "      <td>{'10': 'Ген регулирует связанные со старением ...</td>\n",
       "      <td>MOTSC_HUMAN</td>\n",
       "      <td>[{'id': 11, 'name': 'митохондриальная функция'...</td>\n",
       "      <td>1</td>\n",
       "      <td>{'changed': '1627995612', 'created': '16081933...</td>\n",
       "      <td>ENSG00000211459</td>\n",
       "      <td></td>\n",
       "      <td>[]</td>\n",
       "      <td>[]</td>\n",
       "    </tr>\n",
       "    <tr>\n",
       "      <th>3</th>\n",
       "      <td>358</td>\n",
       "      <td>None</td>\n",
       "      <td>{'id': 24, 'phylum': '', 'age': '', 'order': 25}</td>\n",
       "      <td></td>\n",
       "      <td>CAPG</td>\n",
       "      <td>[AFCP, HEL-S-66, MCP]</td>\n",
       "      <td>[]</td>\n",
       "      <td>[]</td>\n",
       "      <td>capping actin protein, gelsolin like</td>\n",
       "      <td>822</td>\n",
       "      <td>{'13': 'Модуляция активности гена защищает от ...</td>\n",
       "      <td>CAPG_HUMAN</td>\n",
       "      <td>[{'id': 12, 'name': 'организация цитоскелета'}...</td>\n",
       "      <td>1</td>\n",
       "      <td>{'changed': '1638373043', 'created': '16235242...</td>\n",
       "      <td>ENSG00000042493</td>\n",
       "      <td></td>\n",
       "      <td>[{'id': 23, 'name': 'изменения структуры межкл...</td>\n",
       "      <td>[ABDB]</td>\n",
       "    </tr>\n",
       "    <tr>\n",
       "      <th>4</th>\n",
       "      <td>381</td>\n",
       "      <td>None</td>\n",
       "      <td>{'id': 24, 'phylum': '', 'age': '', 'order': 25}</td>\n",
       "      <td></td>\n",
       "      <td>ZFYVE9</td>\n",
       "      <td>[MADHIP, NSP, PPP1R173, SARA, SMADIP]</td>\n",
       "      <td>[]</td>\n",
       "      <td>[]</td>\n",
       "      <td>zinc finger FYVE-type containing 9</td>\n",
       "      <td>9372</td>\n",
       "      <td>{'11': 'Возрастные изменения экспрессии гена/а...</td>\n",
       "      <td>ZFYV9_HUMAN</td>\n",
       "      <td>[{'id': 14, 'name': 'транспорт'}, {'id': 27, '...</td>\n",
       "      <td>1</td>\n",
       "      <td>{'changed': '1638373062', 'created': '16240147...</td>\n",
       "      <td>ENSG00000157077</td>\n",
       "      <td></td>\n",
       "      <td>[]</td>\n",
       "      <td>[ABDB]</td>\n",
       "    </tr>\n",
       "    <tr>\n",
       "      <th>...</th>\n",
       "      <td>...</td>\n",
       "      <td>...</td>\n",
       "      <td>...</td>\n",
       "      <td>...</td>\n",
       "      <td>...</td>\n",
       "      <td>...</td>\n",
       "      <td>...</td>\n",
       "      <td>...</td>\n",
       "      <td>...</td>\n",
       "      <td>...</td>\n",
       "      <td>...</td>\n",
       "      <td>...</td>\n",
       "      <td>...</td>\n",
       "      <td>...</td>\n",
       "      <td>...</td>\n",
       "      <td>...</td>\n",
       "      <td>...</td>\n",
       "      <td>...</td>\n",
       "      <td>...</td>\n",
       "    </tr>\n",
       "    <tr>\n",
       "      <th>472</th>\n",
       "      <td>1422</td>\n",
       "      <td>None</td>\n",
       "      <td>None</td>\n",
       "      <td></td>\n",
       "      <td>NHLRC1</td>\n",
       "      <td>[EPM2A, EPM2B, MALIN, bA204B7.2]</td>\n",
       "      <td>{'902': {'icdCode': 'G40.3', 'icdName': 'Генер...</td>\n",
       "      <td>{'784': {'icdCode': 'G40-G47', 'icdCategoryNam...</td>\n",
       "      <td>NHL repeat containing E3 ubiquitin protein lig...</td>\n",
       "      <td>378884</td>\n",
       "      <td>{'9': 'Возрастные изменения экспрессии гена/ак...</td>\n",
       "      <td>NHLC1_HUMAN</td>\n",
       "      <td>[{'id': 13, 'name': 'протеостаз'}, {'id': 32, ...</td>\n",
       "      <td>0</td>\n",
       "      <td>{'changed': '1638373774', 'created': None}</td>\n",
       "      <td>ENSG00000187566</td>\n",
       "      <td>positive</td>\n",
       "      <td>[{'id': 12, 'name': 'деградация протеолитическ...</td>\n",
       "      <td>[]</td>\n",
       "    </tr>\n",
       "    <tr>\n",
       "      <th>473</th>\n",
       "      <td>1444</td>\n",
       "      <td>None</td>\n",
       "      <td>None</td>\n",
       "      <td></td>\n",
       "      <td>BIK</td>\n",
       "      <td>[BIP1, BP4, NBK]</td>\n",
       "      <td>[]</td>\n",
       "      <td>[]</td>\n",
       "      <td>BCL2 interacting killer</td>\n",
       "      <td>638</td>\n",
       "      <td>{'9': 'Возрастные изменения экспрессии гена/ак...</td>\n",
       "      <td>BIK_HUMAN</td>\n",
       "      <td>[{'id': 11, 'name': 'митохондриальная функция'...</td>\n",
       "      <td>2</td>\n",
       "      <td>{'changed': '1638373775', 'created': None}</td>\n",
       "      <td>ENSG00000100290</td>\n",
       "      <td>positive</td>\n",
       "      <td>[{'id': 17, 'name': 'нарушение целостности и б...</td>\n",
       "      <td>[]</td>\n",
       "    </tr>\n",
       "    <tr>\n",
       "      <th>474</th>\n",
       "      <td>1542</td>\n",
       "      <td>None</td>\n",
       "      <td>None</td>\n",
       "      <td></td>\n",
       "      <td>ACOX1</td>\n",
       "      <td>[ACOX, MITCH, PALMCOX, SCOX]</td>\n",
       "      <td>{'858': {'icdCode': 'E71.3', 'icdName': 'Наруш...</td>\n",
       "      <td>{'757': {'icdCode': 'E70-E90', 'icdCategoryNam...</td>\n",
       "      <td>acyl-CoA oxidase 1</td>\n",
       "      <td>51</td>\n",
       "      <td>{'11': 'Возрастные изменения экспрессии гена/а...</td>\n",
       "      <td>ACOX1_HUMAN</td>\n",
       "      <td>[{'id': 22, 'name': 'метаболизм жиров'}, {'id'...</td>\n",
       "      <td>3</td>\n",
       "      <td>{'changed': '1638373776', 'created': None}</td>\n",
       "      <td>ENSG00000161533</td>\n",
       "      <td>negative</td>\n",
       "      <td>[{'id': 18, 'name': 'накопление активных форм ...</td>\n",
       "      <td>[Horvath]</td>\n",
       "    </tr>\n",
       "    <tr>\n",
       "      <th>475</th>\n",
       "      <td>1582</td>\n",
       "      <td>None</td>\n",
       "      <td>None</td>\n",
       "      <td></td>\n",
       "      <td>FES</td>\n",
       "      <td>[FPS]</td>\n",
       "      <td>[]</td>\n",
       "      <td>[]</td>\n",
       "      <td>FES proto-oncogene, tyrosine kinase</td>\n",
       "      <td>2242</td>\n",
       "      <td>{'8': 'Возрастные изменения экспрессии гена/ак...</td>\n",
       "      <td>FES_HUMAN</td>\n",
       "      <td>[{'id': 10, 'name': 'иммунная функция'}, {'id'...</td>\n",
       "      <td>1</td>\n",
       "      <td>{'changed': '1638373777', 'created': None}</td>\n",
       "      <td>ENSG00000182511</td>\n",
       "      <td>negative</td>\n",
       "      <td>[{'id': 22, 'name': 'нарушения межклеточного в...</td>\n",
       "      <td>[]</td>\n",
       "    </tr>\n",
       "    <tr>\n",
       "      <th>476</th>\n",
       "      <td>1607</td>\n",
       "      <td>None</td>\n",
       "      <td>None</td>\n",
       "      <td></td>\n",
       "      <td>LAMA2</td>\n",
       "      <td>[LAMM, MDC1A]</td>\n",
       "      <td>{'942': {'icdCode': 'G71.2', 'icdName': 'Врожд...</td>\n",
       "      <td>{'773': {'icdCode': 'G70-G73', 'icdCategoryNam...</td>\n",
       "      <td>laminin subunit alpha 2</td>\n",
       "      <td>3908</td>\n",
       "      <td>{'2': 'Геномные, транскриптомные и протеомные ...</td>\n",
       "      <td>LAMA2_HUMAN</td>\n",
       "      <td>[{'id': 17, 'name': 'межклеточный матрикс'}, {...</td>\n",
       "      <td>0</td>\n",
       "      <td>{'changed': '1638373785', 'created': '16298751...</td>\n",
       "      <td>ENSG00000196569</td>\n",
       "      <td></td>\n",
       "      <td>[{'id': 23, 'name': 'изменения структуры межкл...</td>\n",
       "      <td>[]</td>\n",
       "    </tr>\n",
       "  </tbody>\n",
       "</table>\n",
       "<p>477 rows × 19 columns</p>\n",
       "</div>"
      ],
      "text/plain": [
       "       id origin                                      familyOrigin  \\\n",
       "0     114   None  {'id': 24, 'phylum': '', 'age': '', 'order': 25}   \n",
       "1     252   None  {'id': 24, 'phylum': '', 'age': '', 'order': 25}   \n",
       "2     325   None  {'id': 24, 'phylum': '', 'age': '', 'order': 25}   \n",
       "3     358   None  {'id': 24, 'phylum': '', 'age': '', 'order': 25}   \n",
       "4     381   None  {'id': 24, 'phylum': '', 'age': '', 'order': 25}   \n",
       "..    ...    ...                                               ...   \n",
       "472  1422   None                                              None   \n",
       "473  1444   None                                              None   \n",
       "474  1542   None                                              None   \n",
       "475  1582   None                                              None   \n",
       "476  1607   None                                              None   \n",
       "\n",
       "    homologueTaxon   symbol  \\\n",
       "0     Euteleostomi      FAS   \n",
       "1     Euteleostomi     HIC1   \n",
       "2                   MT-RNR1   \n",
       "3                      CAPG   \n",
       "4                    ZFYVE9   \n",
       "..             ...      ...   \n",
       "472                  NHLRC1   \n",
       "473                     BIK   \n",
       "474                   ACOX1   \n",
       "475                     FES   \n",
       "476                   LAMA2   \n",
       "\n",
       "                                               aliases  \\\n",
       "0    [ALPS1A, APO-1, APT1, CD95, FAS1, FASTM, TNFRSF6]   \n",
       "1                              [ZBTB29, ZNF901, hic-1]   \n",
       "2                                             [MTRNR1]   \n",
       "3                                [AFCP, HEL-S-66, MCP]   \n",
       "4                [MADHIP, NSP, PPP1R173, SARA, SMADIP]   \n",
       "..                                                 ...   \n",
       "472                   [EPM2A, EPM2B, MALIN, bA204B7.2]   \n",
       "473                                   [BIP1, BP4, NBK]   \n",
       "474                       [ACOX, MITCH, PALMCOX, SCOX]   \n",
       "475                                              [FPS]   \n",
       "476                                      [LAMM, MDC1A]   \n",
       "\n",
       "                                              diseases  \\\n",
       "0    {'160': {'icdCode': 'D47.9', 'icdName': 'Новоо...   \n",
       "1                                                   []   \n",
       "2    {'194': {'icdCode': 'H90.3', 'icdName': 'Нейро...   \n",
       "3                                                   []   \n",
       "4                                                   []   \n",
       "..                                                 ...   \n",
       "472  {'902': {'icdCode': 'G40.3', 'icdName': 'Генер...   \n",
       "473                                                 []   \n",
       "474  {'858': {'icdCode': 'E71.3', 'icdName': 'Наруш...   \n",
       "475                                                 []   \n",
       "476  {'942': {'icdCode': 'G71.2', 'icdName': 'Врожд...   \n",
       "\n",
       "                                     diseaseCategories  \\\n",
       "0    {'685': {'icdCode': 'D37-D48', 'icdCategoryNam...   \n",
       "1                                                   []   \n",
       "2    {'795': {'icdCode': 'H90-H95', 'icdCategoryNam...   \n",
       "3                                                   []   \n",
       "4                                                   []   \n",
       "..                                                 ...   \n",
       "472  {'784': {'icdCode': 'G40-G47', 'icdCategoryNam...   \n",
       "473                                                 []   \n",
       "474  {'757': {'icdCode': 'E70-E90', 'icdCategoryNam...   \n",
       "475                                                 []   \n",
       "476  {'773': {'icdCode': 'G70-G73', 'icdCategoryNam...   \n",
       "\n",
       "                                                  name  ncbiId  \\\n",
       "0                      Fas cell surface death receptor     355   \n",
       "1                          hypermethylated in cancer 1    3090   \n",
       "2                      mitochondrially encoded 12S RNA    4549   \n",
       "3                 capping actin protein, gelsolin like     822   \n",
       "4                   zinc finger FYVE-type containing 9    9372   \n",
       "..                                                 ...     ...   \n",
       "472  NHL repeat containing E3 ubiquitin protein lig...  378884   \n",
       "473                            BCL2 interacting killer     638   \n",
       "474                                 acyl-CoA oxidase 1      51   \n",
       "475                FES proto-oncogene, tyrosine kinase    2242   \n",
       "476                            laminin subunit alpha 2    3908   \n",
       "\n",
       "                                          commentCause      uniprot  \\\n",
       "0    {'9': 'Возрастные изменения экспрессии гена/ак...   TNR6_HUMAN   \n",
       "1    {'10': 'Ген регулирует связанные со старением ...   HIC1_HUMAN   \n",
       "2    {'10': 'Ген регулирует связанные со старением ...  MOTSC_HUMAN   \n",
       "3    {'13': 'Модуляция активности гена защищает от ...   CAPG_HUMAN   \n",
       "4    {'11': 'Возрастные изменения экспрессии гена/а...  ZFYV9_HUMAN   \n",
       "..                                                 ...          ...   \n",
       "472  {'9': 'Возрастные изменения экспрессии гена/ак...  NHLC1_HUMAN   \n",
       "473  {'9': 'Возрастные изменения экспрессии гена/ак...    BIK_HUMAN   \n",
       "474  {'11': 'Возрастные изменения экспрессии гена/а...  ACOX1_HUMAN   \n",
       "475  {'8': 'Возрастные изменения экспрессии гена/ак...    FES_HUMAN   \n",
       "476  {'2': 'Геномные, транскриптомные и протеомные ...  LAMA2_HUMAN   \n",
       "\n",
       "                                    functionalClusters  expressionChange  \\\n",
       "0    [{'id': 10, 'name': 'иммунная функция'}, {'id'...                 2   \n",
       "1    [{'id': 27, 'name': 'сигналинг'}, {'id': 3, 'n...                 0   \n",
       "2    [{'id': 11, 'name': 'митохондриальная функция'...                 1   \n",
       "3    [{'id': 12, 'name': 'организация цитоскелета'}...                 1   \n",
       "4    [{'id': 14, 'name': 'транспорт'}, {'id': 27, '...                 1   \n",
       "..                                                 ...               ...   \n",
       "472  [{'id': 13, 'name': 'протеостаз'}, {'id': 32, ...                 0   \n",
       "473  [{'id': 11, 'name': 'митохондриальная функция'...                 2   \n",
       "474  [{'id': 22, 'name': 'метаболизм жиров'}, {'id'...                 3   \n",
       "475  [{'id': 10, 'name': 'иммунная функция'}, {'id'...                 1   \n",
       "476  [{'id': 17, 'name': 'межклеточный матрикс'}, {...                 0   \n",
       "\n",
       "                                             timestamp          ensembl  \\\n",
       "0           {'changed': '1638463685', 'created': None}  ENSG00000026103   \n",
       "1           {'changed': '1638372646', 'created': None}  ENSG00000177374   \n",
       "2    {'changed': '1627995612', 'created': '16081933...  ENSG00000211459   \n",
       "3    {'changed': '1638373043', 'created': '16235242...  ENSG00000042493   \n",
       "4    {'changed': '1638373062', 'created': '16240147...  ENSG00000157077   \n",
       "..                                                 ...              ...   \n",
       "472         {'changed': '1638373774', 'created': None}  ENSG00000187566   \n",
       "473         {'changed': '1638373775', 'created': None}  ENSG00000100290   \n",
       "474         {'changed': '1638373776', 'created': None}  ENSG00000161533   \n",
       "475         {'changed': '1638373777', 'created': None}  ENSG00000182511   \n",
       "476  {'changed': '1638373785', 'created': '16298751...  ENSG00000196569   \n",
       "\n",
       "    methylationCorrelation                                    agingMechanisms  \\\n",
       "0                           [{'id': 22, 'name': 'нарушения межклеточного в...   \n",
       "1                           [{'id': 19, 'name': 'накопление сенесцентных к...   \n",
       "2                                                                          []   \n",
       "3                           [{'id': 23, 'name': 'изменения структуры межкл...   \n",
       "4                                                                          []   \n",
       "..                     ...                                                ...   \n",
       "472               positive  [{'id': 12, 'name': 'деградация протеолитическ...   \n",
       "473               positive  [{'id': 17, 'name': 'нарушение целостности и б...   \n",
       "474               negative  [{'id': 18, 'name': 'накопление активных форм ...   \n",
       "475               negative  [{'id': 22, 'name': 'нарушения межклеточного в...   \n",
       "476                         [{'id': 23, 'name': 'изменения структуры межкл...   \n",
       "\n",
       "        source  \n",
       "0    [GeneAge]  \n",
       "1    [GeneAge]  \n",
       "2           []  \n",
       "3       [ABDB]  \n",
       "4       [ABDB]  \n",
       "..         ...  \n",
       "472         []  \n",
       "473         []  \n",
       "474  [Horvath]  \n",
       "475         []  \n",
       "476         []  \n",
       "\n",
       "[477 rows x 19 columns]"
      ]
     },
     "execution_count": 4,
     "metadata": {},
     "output_type": "execute_result"
    }
   ],
   "source": [
    "open_genes_df = pd.DataFrame().from_dict(all_info_about_genes)\n",
    "open_genes_df.reset_index(drop=True)\n",
    "open_genes_df"
   ]
  },
  {
   "cell_type": "markdown",
   "id": "f11fcf07",
   "metadata": {},
   "source": [
    "# Описательная статистика"
   ]
  },
  {
   "cell_type": "markdown",
   "id": "3747e2ae",
   "metadata": {},
   "source": [
    "## Гены по возраст-зависимым процессам"
   ]
  },
  {
   "cell_type": "markdown",
   "id": "a67c0dee",
   "metadata": {},
   "source": [
    "### Какие возраст-зависимые процессы чаще всего фигурируют в базе (косвенное свидетельство о том, насколько он важен относительно тех,которые не встречаются/встречаются редко)"
   ]
  },
  {
   "cell_type": "code",
   "execution_count": 5,
   "id": "2887805d",
   "metadata": {
    "ExecuteTime": {
     "end_time": "2021-12-21T08:13:44.961818Z",
     "start_time": "2021-12-21T08:13:44.956444Z"
    }
   },
   "outputs": [],
   "source": [
    "genes_mechanisms = list()\n",
    "for gene_info in all_info_about_genes:\n",
    "    for am in gene_info['agingMechanisms']:\n",
    "        genes_mechanisms.append({\n",
    "            'symbol': gene_info['symbol'],\n",
    "            'mechanism_name': am['name']\n",
    "        })\n",
    "    "
   ]
  },
  {
   "cell_type": "code",
   "execution_count": 6,
   "id": "12434819",
   "metadata": {
    "ExecuteTime": {
     "end_time": "2021-12-21T08:13:44.974229Z",
     "start_time": "2021-12-21T08:13:44.963381Z"
    }
   },
   "outputs": [],
   "source": [
    "genes_mechanisms_df = pd.DataFrame(genes_mechanisms)"
   ]
  },
  {
   "cell_type": "code",
   "execution_count": 7,
   "id": "5a21c0e7",
   "metadata": {
    "ExecuteTime": {
     "end_time": "2021-12-21T08:13:44.990436Z",
     "start_time": "2021-12-21T08:13:44.976124Z"
    }
   },
   "outputs": [
    {
     "data": {
      "text/plain": [
       "нарушение целостности и биогенеза митохондрий    152\n",
       "нестабильность митохондриальной ДНК              118\n",
       "накопление сенесцентных клеток                   115\n",
       "нарушения иммунной системы                       106\n",
       "транскрипционные изменения                       100\n",
       "изменения структуры межклеточного матрикса        81\n",
       "нарушения межклеточного взаимодействия            68\n",
       "деградация протеолитических систем                66\n",
       "ремоделирование хроматина                         60\n",
       "нестабильность ядерной ДНК                        58\n",
       "накопление активных форм кислорода                43\n",
       "изменения метилирования ДНК                       36\n",
       "стерильное воспаление                             31\n",
       "дисрегуляция молекулярного пути INS/IGF-1         24\n",
       "укорочение теломер                                21\n",
       "повреждение матричной РНК                         20\n",
       "истощение пула стволовых клеток                   19\n",
       "изменения модификаций гистонов                    18\n",
       "дисрегуляция молекулярного пути TOR               15\n",
       "нарушение ядерной архитектуры                     15\n",
       "дисрегуляция молекулярного пути AMPK              14\n",
       "нарушения фолдинга и стабильности белков           7\n",
       "нарушения сплайсинга РНК                           3\n",
       "Name: mechanism_name, dtype: int64"
      ]
     },
     "execution_count": 7,
     "metadata": {},
     "output_type": "execute_result"
    }
   ],
   "source": [
    "genes_mechanisms_df['mechanism_name'].value_counts()"
   ]
  },
  {
   "cell_type": "code",
   "execution_count": 8,
   "id": "7c89a070",
   "metadata": {
    "ExecuteTime": {
     "end_time": "2021-12-21T08:13:45.637741Z",
     "start_time": "2021-12-21T08:13:45.166353Z"
    }
   },
   "outputs": [
    {
     "data": {
      "image/png": "[encoded data removed]",
      "text/plain": [
       "<Figure size 864x864 with 1 Axes>"
      ]
     },
     "metadata": {
      "needs_background": "light"
     },
     "output_type": "display_data"
    }
   ],
   "source": [
    "data = genes_mechanisms_df['mechanism_name'].value_counts()\n",
    "plt.figure(figsize=(12,12))\n",
    "pal = sns.color_palette(\"Greens_d\", len(data))\n",
    "rank = data.argsort().argsort()\n",
    "\n",
    "plt.title(\"Gene-Associated Mechanisms of Aging\")\n",
    "plt.xlabel(\"The frequency of occurrence in the database\")\n",
    "plt.ylabel(\"Aging Mechanism\")\n",
    "\n",
    "ax = sns.barplot(\n",
    "    x=data.values[:50], \n",
    "    y=data.index[:50], \n",
    "    data=genes_mechanisms_df,\n",
    "    palette=np.array(pal[::1])[rank]\n",
    ")"
   ]
  },
  {
   "cell_type": "markdown",
   "id": "d3541c61",
   "metadata": {},
   "source": [
    "### Какие гены задействованы в более чем одном процессе (могут бытьнаиболее интересными мишенями для чекпойнт-ингибиторов, которыепоказали геропротекторные свойства)?"
   ]
  },
  {
   "cell_type": "code",
   "execution_count": 9,
   "id": "c16c8aa0",
   "metadata": {
    "ExecuteTime": {
     "end_time": "2021-12-21T08:13:45.865398Z",
     "start_time": "2021-12-21T08:13:45.858916Z"
    }
   },
   "outputs": [],
   "source": [
    "candidates = pd.DataFrame(genes_mechanisms_df['symbol'].value_counts())"
   ]
  },
  {
   "cell_type": "code",
   "execution_count": 10,
   "id": "017324d8",
   "metadata": {
    "ExecuteTime": {
     "end_time": "2021-12-21T08:13:46.140441Z",
     "start_time": "2021-12-21T08:13:46.133038Z"
    }
   },
   "outputs": [],
   "source": [
    "candidates_filtered = candidates.loc[candidates['symbol'] > 1]"
   ]
  },
  {
   "cell_type": "code",
   "execution_count": 11,
   "id": "08c8c82b",
   "metadata": {
    "ExecuteTime": {
     "end_time": "2021-12-21T08:13:46.451584Z",
     "start_time": "2021-12-21T08:13:46.436240Z"
    }
   },
   "outputs": [
    {
     "data": {
      "text/html": [
       "<div>\n",
       "<style scoped>\n",
       "    .dataframe tbody tr th:only-of-type {\n",
       "        vertical-align: middle;\n",
       "    }\n",
       "\n",
       "    .dataframe tbody tr th {\n",
       "        vertical-align: top;\n",
       "    }\n",
       "\n",
       "    .dataframe thead th {\n",
       "        text-align: right;\n",
       "    }\n",
       "</style>\n",
       "<table border=\"1\" class=\"dataframe\">\n",
       "  <thead>\n",
       "    <tr style=\"text-align: right;\">\n",
       "      <th></th>\n",
       "      <th>symbol</th>\n",
       "    </tr>\n",
       "  </thead>\n",
       "  <tbody>\n",
       "    <tr>\n",
       "      <th>CTNNB1</th>\n",
       "      <td>10</td>\n",
       "    </tr>\n",
       "    <tr>\n",
       "      <th>ATM</th>\n",
       "      <td>9</td>\n",
       "    </tr>\n",
       "    <tr>\n",
       "      <th>EZH2</th>\n",
       "      <td>9</td>\n",
       "    </tr>\n",
       "    <tr>\n",
       "      <th>APEX1</th>\n",
       "      <td>9</td>\n",
       "    </tr>\n",
       "    <tr>\n",
       "      <th>SIRT2</th>\n",
       "      <td>9</td>\n",
       "    </tr>\n",
       "    <tr>\n",
       "      <th>...</th>\n",
       "      <td>...</td>\n",
       "    </tr>\n",
       "    <tr>\n",
       "      <th>MMP14</th>\n",
       "      <td>2</td>\n",
       "    </tr>\n",
       "    <tr>\n",
       "      <th>RET</th>\n",
       "      <td>2</td>\n",
       "    </tr>\n",
       "    <tr>\n",
       "      <th>SERPINE1</th>\n",
       "      <td>2</td>\n",
       "    </tr>\n",
       "    <tr>\n",
       "      <th>FOLR1</th>\n",
       "      <td>2</td>\n",
       "    </tr>\n",
       "    <tr>\n",
       "      <th>TIMP1</th>\n",
       "      <td>2</td>\n",
       "    </tr>\n",
       "  </tbody>\n",
       "</table>\n",
       "<p>272 rows × 1 columns</p>\n",
       "</div>"
      ],
      "text/plain": [
       "          symbol\n",
       "CTNNB1        10\n",
       "ATM            9\n",
       "EZH2           9\n",
       "APEX1          9\n",
       "SIRT2          9\n",
       "...          ...\n",
       "MMP14          2\n",
       "RET            2\n",
       "SERPINE1       2\n",
       "FOLR1          2\n",
       "TIMP1          2\n",
       "\n",
       "[272 rows x 1 columns]"
      ]
     },
     "execution_count": 11,
     "metadata": {},
     "output_type": "execute_result"
    }
   ],
   "source": [
    "candidates_filtered"
   ]
  },
  {
   "cell_type": "code",
   "execution_count": 12,
   "id": "3e264f32",
   "metadata": {
    "ExecuteTime": {
     "end_time": "2021-12-21T08:13:47.457003Z",
     "start_time": "2021-12-21T08:13:46.749491Z"
    },
    "scrolled": true
   },
   "outputs": [
    {
     "data": {
      "image/png": "[encoded data removed]",
      "text/plain": [
       "<Figure size 864x864 with 1 Axes>"
      ]
     },
     "metadata": {
      "needs_background": "light"
     },
     "output_type": "display_data"
    }
   ],
   "source": [
    "data = genes_mechanisms_df['symbol'].value_counts()\n",
    "\n",
    "plt.figure(figsize=(12,12))\n",
    "pal = sns.color_palette(\"Greens_d\", len(data))\n",
    "rank = data.argsort().argsort()\n",
    "\n",
    "plt.title(\"Gene-Associated with 2 or more Mechanisms of Aging\")\n",
    "plt.xlabel(\"N Mechanisms of Aging\")\n",
    "plt.ylabel(\"Gene Symbol\")\n",
    "\n",
    "ax = sns.barplot(\n",
    "    x=data.values[:50], \n",
    "    y=data.index[:50], \n",
    "    data=genes_mechanisms_df,\n",
    "    palette=np.array(pal[::1])[rank]\n",
    ")"
   ]
  },
  {
   "cell_type": "markdown",
   "id": "4b912fa4",
   "metadata": {},
   "source": [
    "### В качестве ингибиторов или активаторов выступают продуты данныхгенов в возраст-зависимых процессах? Есть ли расхождения попроцессам (можно сделать вывод о том насколько релевантна мишень)?"
   ]
  },
  {
   "cell_type": "markdown",
   "id": "52721bb6",
   "metadata": {},
   "source": [
    "### На примере каких тканей проводились исследования, на каких модельных организмах?"
   ]
  },
  {
   "cell_type": "markdown",
   "id": "6f0686c7",
   "metadata": {},
   "source": [
    "### Как полиморфизмы в генах ассоциированы с возраст-зависимымипроцессами?"
   ]
  },
  {
   "cell_type": "markdown",
   "id": "d465a074",
   "metadata": {},
   "source": [
    "## Ассоциация вариантов в генах с долголетием"
   ]
  },
  {
   "cell_type": "markdown",
   "id": "323d696a",
   "metadata": {},
   "source": [
    "## Влияние ингибиторов/активаторов генов на продолжительность жизни (%) (затем гены можно также ранжировать по вкладу в увеличениепродолжительность жизни х модельного организма/человека)"
   ]
  },
  {
   "cell_type": "markdown",
   "id": "5b27770e",
   "metadata": {},
   "source": [
    "## Посмотреть экспрессию по всем организмам и выявить те гены, экспрессиякоторых схожа во всех организмах, проследить связь с данными по эволюции."
   ]
  },
  {
   "cell_type": "code",
   "execution_count": null,
   "id": "d54393da",
   "metadata": {},
   "outputs": [],
   "source": []
  },
  {
   "cell_type": "code",
   "execution_count": null,
   "id": "71440aa9",
   "metadata": {},
   "outputs": [],
   "source": []
  },
  {
   "cell_type": "code",
   "execution_count": null,
   "id": "a52b3299",
   "metadata": {},
   "outputs": [],
   "source": []
  },
  {
   "cell_type": "code",
   "execution_count": null,
   "id": "ca2c2efc",
   "metadata": {},
   "outputs": [],
   "source": []
  }
 ],
 "metadata": {
  "kernelspec": {
   "display_name": "user_venv",
   "language": "python",
   "name": "user_venv"
  },
  "language_info": {
   "codemirror_mode": {
    "name": "ipython",
    "version": 3
   },
   "file_extension": ".py",
   "mimetype": "text/x-python",
   "name": "python",
   "nbconvert_exporter": "python",
   "pygments_lexer": "ipython3",
   "version": "3.8.12"
  },
  "toc": {
   "base_numbering": 1,
   "nav_menu": {},
   "number_sections": true,
   "sideBar": true,
   "skip_h1_title": false,
   "title_cell": "Table of Contents",
   "title_sidebar": "Contents",
   "toc_cell": false,
   "toc_position": {},
   "toc_section_display": true,
   "toc_window_display": true
  }
 },
 "nbformat": 4,
 "nbformat_minor": 5
}
