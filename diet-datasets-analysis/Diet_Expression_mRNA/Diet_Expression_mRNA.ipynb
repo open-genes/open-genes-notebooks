{
 "cells": [
  {
   "cell_type": "markdown",
   "id": "4382607d",
   "metadata": {},
   "source": [
    "### **Задача** : Дано два датасета expression_mouse_mRNA (возрастные изменения экспрессии генов) и diet_mouse_mRNA (изменения экспрессии генов после диеты), там есть колонки Gene и effect. Между этими списками генов есть значимое пересечение (63 общих гена). Нам нужно посмотреть на какие гены диета и возраст влияют в одном направлении, на какие в разном и для каких данные противоречивые (в одном из датасетов у одного и того же гена экспрессия то увеличивается, то уменьшается)."
   ]
  },
  {
   "cell_type": "markdown",
   "id": "33be9347",
   "metadata": {},
   "source": [
    "### Содержание\n",
    "1. [Шаг 1. Откроем файл с данными и изучим общую информацию.](#Шаг-1.-Откроем-файл-с-данными-и-изучим-общую-информацию)\n",
    "2. [Шаг 2. Создадим датасеты с 62 уникальными генами, присутствующими в обоих исходных датасетах](#Шаг-2.-Создадим-датасеты-с-62-уникальными-генами,-присутствующими-в-обоих-исходных-датасетах)\n",
    "3. [Шаг 3.Создадим датасеты с 9 уникальными генами, присутствующими в обоих исходных датасетах и имеющими более 1 записи в каждом](#Шаг-3.-Создадим-датасеты-с-9-уникальными-генами,-присутствующими-в-обоих-исходных-датасетах-и-имеющими-более-1-записи-в-каждом)\n",
    "4. [Шаг 4.Преобразуем данные в датасетах для построения графиков Heatmap](#Шаг-4.-Преобразуем-данные-в-датасетах-для-построения-графиков-Heatmap)\n",
    "5. [Шаг 5. Создадим датасеты с общими 62 генами overall_genes_effect и 9 генами max_genes_effect, имеющими больше 1 записи в обоих исходных датасетах для анализа корреляции effect ](#Шаг-5.-Создадим-датасеты-с-общими-62-генами-overall_genes_effect-и-9-генами-max_genes_effect,-имеющими-больше-1-записи-в-обоих-исходных-датасетах-для-анализа-корреляции-effect )\n",
    "6. [Шаг 6. Создадим функцию для цветового анализа корреляций effect](#Шаг-6.-Создадим-функцию-для-цветового-анализа-корреляций-effect)\n",
    "7. [Шаг 7. Графики Heatmap для датасетов с 62 генами overall_genes_effect и 9 генами max_genes_effect, имеющими больше 1 записи в обоих исходных датасетах для анализа корреляции effect ](#Шаг-7.-Графики-Heatmap-для-датасетов-с-62-генами-overall_genes_effect-и-9-генами-max_genes_effect,-имеющими-больше-1-записи-в-обоих-исходных-датасетах-для-анализа-корреляции-effect )"
   ]
  },
  {
   "cell_type": "markdown",
   "id": "84a067ed",
   "metadata": {},
   "source": [
    "### Шаг 1. Откроем файл с данными и изучим общую информацию"
   ]
  },
  {
   "cell_type": "code",
   "execution_count": 58,
   "id": "4e096ba8",
   "metadata": {},
   "outputs": [],
   "source": [
    "import pandas as pd\n",
    "import numpy as np\n",
    "import matplotlib.pyplot as plt\n",
    "import seaborn as sns"
   ]
  },
  {
   "cell_type": "markdown",
   "id": "17a3335b",
   "metadata": {},
   "source": [
    " #### Cохраним датасетс в переменные (используем с диска датасеты <mark>diet_mouse_mRNA.csv</mark> и <mark>expression_mouse_mRNA (50more).csv</mark>"
   ]
  },
  {
   "cell_type": "code",
   "execution_count": 59,
   "id": "79172c32",
   "metadata": {},
   "outputs": [],
   "source": [
    "url_d = 'https://drive.google.com/file/d/1alGKw9yYS_f6PK3XAxJgSmLPkvoqWb6y/view?usp=sharing'\n",
    "\n",
    "path = 'https://drive.google.com/uc?id='+url_d.split('/')[-2]\n",
    "diet = pd.read_csv(path, sep = ';')"
   ]
  },
  {
   "cell_type": "code",
   "execution_count": 60,
   "id": "9cdc28cd",
   "metadata": {},
   "outputs": [],
   "source": [
    "url = 'https://drive.google.com/file/d/13T_4XMuIuG4qCfloWt2rUMvDj5uaJsW-/view?usp=sharing'\n",
    "\n",
    "path = 'https://drive.google.com/uc?id='+url.split('/')[-2]\n",
    "expression = pd.read_csv(path, sep = ';', encoding='latin-1')"
   ]
  },
  {
   "cell_type": "markdown",
   "id": "41fd01c9",
   "metadata": {},
   "source": [
    "#### Проанализаруем данные поочередно"
   ]
  },
  {
   "cell_type": "markdown",
   "id": "33decb6f",
   "metadata": {},
   "source": [
    "#### <mark>Проанализируем таблицу <b>diet</b></mark>"
   ]
  },
  {
   "cell_type": "code",
   "execution_count": 61,
   "id": "b6e4129a",
   "metadata": {},
   "outputs": [
    {
     "data": {
      "text/html": [
       "<div>\n",
       "<style scoped>\n",
       "    .dataframe tbody tr th:only-of-type {\n",
       "        vertical-align: middle;\n",
       "    }\n",
       "\n",
       "    .dataframe tbody tr th {\n",
       "        vertical-align: top;\n",
       "    }\n",
       "\n",
       "    .dataframe thead th {\n",
       "        text-align: right;\n",
       "    }\n",
       "</style>\n",
       "<table border=\"1\" class=\"dataframe\">\n",
       "  <thead>\n",
       "    <tr style=\"text-align: right;\">\n",
       "      <th></th>\n",
       "      <th>Gene</th>\n",
       "      <th>effect</th>\n",
       "      <th>qualityType</th>\n",
       "      <th>restriction_persent</th>\n",
       "      <th>restriction_time</th>\n",
       "      <th>age</th>\n",
       "      <th>organism</th>\n",
       "      <th>line</th>\n",
       "      <th>sex</th>\n",
       "      <th>sample</th>\n",
       "      <th>link</th>\n",
       "    </tr>\n",
       "  </thead>\n",
       "  <tbody>\n",
       "    <tr>\n",
       "      <th>0</th>\n",
       "      <td>0610007P14Rik</td>\n",
       "      <td>increase</td>\n",
       "      <td>mRNA</td>\n",
       "      <td>40</td>\n",
       "      <td>16_weeks</td>\n",
       "      <td>5_months</td>\n",
       "      <td>mouse</td>\n",
       "      <td>C57BL/6J</td>\n",
       "      <td>male</td>\n",
       "      <td>liver</td>\n",
       "      <td>10.1038/s41598-017-00267-9</td>\n",
       "    </tr>\n",
       "    <tr>\n",
       "      <th>1</th>\n",
       "      <td>0610011F06Rik</td>\n",
       "      <td>decrease</td>\n",
       "      <td>mRNA</td>\n",
       "      <td>60</td>\n",
       "      <td>20_days</td>\n",
       "      <td>20_weeks</td>\n",
       "      <td>mouse</td>\n",
       "      <td>C57BL/6J</td>\n",
       "      <td>both</td>\n",
       "      <td>muscle</td>\n",
       "      <td>10.3390/genes12050691</td>\n",
       "    </tr>\n",
       "    <tr>\n",
       "      <th>2</th>\n",
       "      <td>1110001J03Rik</td>\n",
       "      <td>increase</td>\n",
       "      <td>mRNA</td>\n",
       "      <td>40</td>\n",
       "      <td>16_weeks</td>\n",
       "      <td>5_months</td>\n",
       "      <td>mouse</td>\n",
       "      <td>C57BL/6J</td>\n",
       "      <td>male</td>\n",
       "      <td>liver</td>\n",
       "      <td>10.1038/s41598-017-00267-9</td>\n",
       "    </tr>\n",
       "    <tr>\n",
       "      <th>3</th>\n",
       "      <td>1110002E22Rik</td>\n",
       "      <td>increase</td>\n",
       "      <td>mRNA</td>\n",
       "      <td>60</td>\n",
       "      <td>20_days</td>\n",
       "      <td>20_weeks</td>\n",
       "      <td>mouse</td>\n",
       "      <td>C57BL/6J</td>\n",
       "      <td>both</td>\n",
       "      <td>muscle</td>\n",
       "      <td>10.3390/genes12050691</td>\n",
       "    </tr>\n",
       "    <tr>\n",
       "      <th>4</th>\n",
       "      <td>1110002E22Rik</td>\n",
       "      <td>decrease</td>\n",
       "      <td>mRNA</td>\n",
       "      <td>60</td>\n",
       "      <td>20_days</td>\n",
       "      <td>80_weeks</td>\n",
       "      <td>mouse</td>\n",
       "      <td>C57BL/6J</td>\n",
       "      <td>both</td>\n",
       "      <td>muscle</td>\n",
       "      <td>10.3390/genes12050691</td>\n",
       "    </tr>\n",
       "  </tbody>\n",
       "</table>\n",
       "</div>"
      ],
      "text/plain": [
       "            Gene    effect qualityType  restriction_persent restriction_time  \\\n",
       "0  0610007P14Rik  increase        mRNA                   40         16_weeks   \n",
       "1  0610011F06Rik  decrease        mRNA                   60          20_days   \n",
       "2  1110001J03Rik  increase        mRNA                   40         16_weeks   \n",
       "3  1110002E22Rik  increase        mRNA                   60          20_days   \n",
       "4  1110002E22Rik  decrease        mRNA                   60          20_days   \n",
       "\n",
       "        age organism      line   sex  sample                        link  \n",
       "0  5_months    mouse  C57BL/6J  male   liver  10.1038/s41598-017-00267-9  \n",
       "1  20_weeks    mouse  C57BL/6J  both  muscle       10.3390/genes12050691  \n",
       "2  5_months    mouse  C57BL/6J  male   liver  10.1038/s41598-017-00267-9  \n",
       "3  20_weeks    mouse  C57BL/6J  both  muscle       10.3390/genes12050691  \n",
       "4  80_weeks    mouse  C57BL/6J  both  muscle       10.3390/genes12050691  "
      ]
     },
     "execution_count": 61,
     "metadata": {},
     "output_type": "execute_result"
    }
   ],
   "source": [
    "diet.head()"
   ]
  },
  {
   "cell_type": "code",
   "execution_count": 62,
   "id": "3659db1e",
   "metadata": {},
   "outputs": [
    {
     "name": "stdout",
     "output_type": "stream",
     "text": [
      "<class 'pandas.core.frame.DataFrame'>\n",
      "RangeIndex: 6075 entries, 0 to 6074\n",
      "Data columns (total 11 columns):\n",
      " #   Column               Non-Null Count  Dtype \n",
      "---  ------               --------------  ----- \n",
      " 0   Gene                 6075 non-null   object\n",
      " 1   effect               6075 non-null   object\n",
      " 2   qualityType          6075 non-null   object\n",
      " 3   restriction_persent  6075 non-null   int64 \n",
      " 4   restriction_time     6075 non-null   object\n",
      " 5   age                  6075 non-null   object\n",
      " 6   organism             6075 non-null   object\n",
      " 7   line                 6075 non-null   object\n",
      " 8   sex                  6075 non-null   object\n",
      " 9   sample               6075 non-null   object\n",
      " 10  link                 6075 non-null   object\n",
      "dtypes: int64(1), object(10)\n",
      "memory usage: 522.2+ KB\n"
     ]
    }
   ],
   "source": [
    "diet.info()"
   ]
  },
  {
   "cell_type": "code",
   "execution_count": 63,
   "id": "3729a7de",
   "metadata": {},
   "outputs": [
    {
     "data": {
      "text/html": [
       "<div>\n",
       "<style scoped>\n",
       "    .dataframe tbody tr th:only-of-type {\n",
       "        vertical-align: middle;\n",
       "    }\n",
       "\n",
       "    .dataframe tbody tr th {\n",
       "        vertical-align: top;\n",
       "    }\n",
       "\n",
       "    .dataframe thead th {\n",
       "        text-align: right;\n",
       "    }\n",
       "</style>\n",
       "<table border=\"1\" class=\"dataframe\">\n",
       "  <thead>\n",
       "    <tr style=\"text-align: right;\">\n",
       "      <th></th>\n",
       "      <th>restriction_persent</th>\n",
       "    </tr>\n",
       "  </thead>\n",
       "  <tbody>\n",
       "    <tr>\n",
       "      <th>count</th>\n",
       "      <td>6075.000000</td>\n",
       "    </tr>\n",
       "    <tr>\n",
       "      <th>mean</th>\n",
       "      <td>43.576955</td>\n",
       "    </tr>\n",
       "    <tr>\n",
       "      <th>std</th>\n",
       "      <td>12.318974</td>\n",
       "    </tr>\n",
       "    <tr>\n",
       "      <th>min</th>\n",
       "      <td>10.000000</td>\n",
       "    </tr>\n",
       "    <tr>\n",
       "      <th>25%</th>\n",
       "      <td>40.000000</td>\n",
       "    </tr>\n",
       "    <tr>\n",
       "      <th>50%</th>\n",
       "      <td>40.000000</td>\n",
       "    </tr>\n",
       "    <tr>\n",
       "      <th>75%</th>\n",
       "      <td>60.000000</td>\n",
       "    </tr>\n",
       "    <tr>\n",
       "      <th>max</th>\n",
       "      <td>60.000000</td>\n",
       "    </tr>\n",
       "  </tbody>\n",
       "</table>\n",
       "</div>"
      ],
      "text/plain": [
       "       restriction_persent\n",
       "count          6075.000000\n",
       "mean             43.576955\n",
       "std              12.318974\n",
       "min              10.000000\n",
       "25%              40.000000\n",
       "50%              40.000000\n",
       "75%              60.000000\n",
       "max              60.000000"
      ]
     },
     "execution_count": 63,
     "metadata": {},
     "output_type": "execute_result"
    }
   ],
   "source": [
    "diet.describe()"
   ]
  },
  {
   "cell_type": "markdown",
   "id": "d9326f5d",
   "metadata": {},
   "source": [
    "#### <mark>Проанализируем таблицу <b>expression</b></mark>"
   ]
  },
  {
   "cell_type": "code",
   "execution_count": 64,
   "id": "d636d497",
   "metadata": {},
   "outputs": [
    {
     "data": {
      "text/html": [
       "<div>\n",
       "<style scoped>\n",
       "    .dataframe tbody tr th:only-of-type {\n",
       "        vertical-align: middle;\n",
       "    }\n",
       "\n",
       "    .dataframe tbody tr th {\n",
       "        vertical-align: top;\n",
       "    }\n",
       "\n",
       "    .dataframe thead th {\n",
       "        text-align: right;\n",
       "    }\n",
       "</style>\n",
       "<table border=\"1\" class=\"dataframe\">\n",
       "  <thead>\n",
       "    <tr style=\"text-align: right;\">\n",
       "      <th></th>\n",
       "      <th>Unnamed: 0</th>\n",
       "      <th>Gene</th>\n",
       "      <th>Gene human</th>\n",
       "      <th>effect</th>\n",
       "      <th>change type</th>\n",
       "      <th>expression evaluation by</th>\n",
       "      <th>sample</th>\n",
       "      <th>model organism</th>\n",
       "      <th>line</th>\n",
       "      <th>sex</th>\n",
       "      <th>...</th>\n",
       "      <th>age of control - max</th>\n",
       "      <th>age of experiment - max</th>\n",
       "      <th>age unit</th>\n",
       "      <th>doi</th>\n",
       "      <th>pmid</th>\n",
       "      <th>Unnamed: 21</th>\n",
       "      <th>Unnamed: 22</th>\n",
       "      <th>Unnamed: 23</th>\n",
       "      <th>Unnamed: 24</th>\n",
       "      <th>Unnamed: 25</th>\n",
       "    </tr>\n",
       "  </thead>\n",
       "  <tbody>\n",
       "    <tr>\n",
       "      <th>0</th>\n",
       "      <td>1</td>\n",
       "      <td>Acox1</td>\n",
       "      <td>ACOX1</td>\n",
       "      <td>increase</td>\n",
       "      <td>increased gene expression</td>\n",
       "      <td>mRNA</td>\n",
       "      <td>acoustic nerve</td>\n",
       "      <td>mouse</td>\n",
       "      <td>C57BL/6</td>\n",
       "      <td>male</td>\n",
       "      <td>...</td>\n",
       "      <td>NaN</td>\n",
       "      <td>NaN</td>\n",
       "      <td>months</td>\n",
       "      <td>10.1016/j.bbadis.2013.10.017</td>\n",
       "      <td>NaN</td>\n",
       "      <td>NaN</td>\n",
       "      <td>NaN</td>\n",
       "      <td>NaN</td>\n",
       "      <td>NaN</td>\n",
       "      <td>NaN</td>\n",
       "    </tr>\n",
       "    <tr>\n",
       "      <th>1</th>\n",
       "      <td>2</td>\n",
       "      <td>Adamts1</td>\n",
       "      <td>ADAMTS1</td>\n",
       "      <td>increase</td>\n",
       "      <td>increased gene expression</td>\n",
       "      <td>mRNA</td>\n",
       "      <td>acoustic nerve</td>\n",
       "      <td>mouse</td>\n",
       "      <td>C57BL/6</td>\n",
       "      <td>both</td>\n",
       "      <td>...</td>\n",
       "      <td>NaN</td>\n",
       "      <td>NaN</td>\n",
       "      <td>months</td>\n",
       "      <td>10.1152/ajpendo.00040.2016</td>\n",
       "      <td>NaN</td>\n",
       "      <td>NaN</td>\n",
       "      <td>NaN</td>\n",
       "      <td>NaN</td>\n",
       "      <td>NaN</td>\n",
       "      <td>NaN</td>\n",
       "    </tr>\n",
       "    <tr>\n",
       "      <th>2</th>\n",
       "      <td>3</td>\n",
       "      <td>Adamts1</td>\n",
       "      <td>ADAMTS1</td>\n",
       "      <td>increase</td>\n",
       "      <td>increased gene expression</td>\n",
       "      <td>mRNA</td>\n",
       "      <td>acoustic nerve</td>\n",
       "      <td>mouse</td>\n",
       "      <td>C57BL/6</td>\n",
       "      <td>both</td>\n",
       "      <td>...</td>\n",
       "      <td>NaN</td>\n",
       "      <td>NaN</td>\n",
       "      <td>months</td>\n",
       "      <td>10.1152/ajpendo.00040.2016</td>\n",
       "      <td>NaN</td>\n",
       "      <td>NaN</td>\n",
       "      <td>NaN</td>\n",
       "      <td>NaN</td>\n",
       "      <td>NaN</td>\n",
       "      <td>NaN</td>\n",
       "    </tr>\n",
       "    <tr>\n",
       "      <th>3</th>\n",
       "      <td>4</td>\n",
       "      <td>Akt1s1</td>\n",
       "      <td>AKT1S1</td>\n",
       "      <td>decrease</td>\n",
       "      <td>decreased gene expression</td>\n",
       "      <td>mRNA</td>\n",
       "      <td>acoustic nerve</td>\n",
       "      <td>mouse</td>\n",
       "      <td>C57BL/6</td>\n",
       "      <td>female</td>\n",
       "      <td>...</td>\n",
       "      <td>NaN</td>\n",
       "      <td>NaN</td>\n",
       "      <td>months</td>\n",
       "      <td>10.1002/cbf.3539</td>\n",
       "      <td>NaN</td>\n",
       "      <td>NaN</td>\n",
       "      <td>NaN</td>\n",
       "      <td>NaN</td>\n",
       "      <td>NaN</td>\n",
       "      <td>NaN</td>\n",
       "    </tr>\n",
       "    <tr>\n",
       "      <th>4</th>\n",
       "      <td>5</td>\n",
       "      <td>Apc</td>\n",
       "      <td>APC</td>\n",
       "      <td>decrease</td>\n",
       "      <td>decreased gene expression</td>\n",
       "      <td>mRNA</td>\n",
       "      <td>acoustic nerve</td>\n",
       "      <td>mouse</td>\n",
       "      <td>C57BL/6J</td>\n",
       "      <td>male</td>\n",
       "      <td>...</td>\n",
       "      <td>NaN</td>\n",
       "      <td>NaN</td>\n",
       "      <td>months</td>\n",
       "      <td>10.1007/s11357-014-9618-3</td>\n",
       "      <td>NaN</td>\n",
       "      <td>NaN</td>\n",
       "      <td>NaN</td>\n",
       "      <td>NaN</td>\n",
       "      <td>NaN</td>\n",
       "      <td>NaN</td>\n",
       "    </tr>\n",
       "  </tbody>\n",
       "</table>\n",
       "<p>5 rows × 26 columns</p>\n",
       "</div>"
      ],
      "text/plain": [
       "  Unnamed: 0     Gene Gene human    effect                change type  \\\n",
       "0          1    Acox1      ACOX1  increase  increased gene expression   \n",
       "1          2  Adamts1    ADAMTS1  increase  increased gene expression   \n",
       "2          3  Adamts1    ADAMTS1  increase  increased gene expression   \n",
       "3          4   Akt1s1     AKT1S1  decrease  decreased gene expression   \n",
       "4          5      Apc        APC  decrease  decreased gene expression   \n",
       "\n",
       "  expression evaluation by          sample model organism      line     sex  \\\n",
       "0                     mRNA  acoustic nerve          mouse   C57BL/6    male   \n",
       "1                     mRNA  acoustic nerve          mouse   C57BL/6    both   \n",
       "2                     mRNA  acoustic nerve          mouse   C57BL/6    both   \n",
       "3                     mRNA  acoustic nerve          mouse   C57BL/6  female   \n",
       "4                     mRNA  acoustic nerve          mouse  C57BL/6J    male   \n",
       "\n",
       "   ... age of control - max age of experiment - max  age unit  \\\n",
       "0  ...                  NaN                     NaN    months   \n",
       "1  ...                  NaN                     NaN    months   \n",
       "2  ...                  NaN                     NaN    months   \n",
       "3  ...                  NaN                     NaN    months   \n",
       "4  ...                  NaN                     NaN    months   \n",
       "\n",
       "                            doi  pmid  Unnamed: 21  Unnamed: 22  Unnamed: 23  \\\n",
       "0  10.1016/j.bbadis.2013.10.017   NaN          NaN          NaN          NaN   \n",
       "1    10.1152/ajpendo.00040.2016   NaN          NaN          NaN          NaN   \n",
       "2    10.1152/ajpendo.00040.2016   NaN          NaN          NaN          NaN   \n",
       "3              10.1002/cbf.3539   NaN          NaN          NaN          NaN   \n",
       "4     10.1007/s11357-014-9618-3   NaN          NaN          NaN          NaN   \n",
       "\n",
       "  Unnamed: 24 Unnamed: 25  \n",
       "0         NaN         NaN  \n",
       "1         NaN         NaN  \n",
       "2         NaN         NaN  \n",
       "3         NaN         NaN  \n",
       "4         NaN         NaN  \n",
       "\n",
       "[5 rows x 26 columns]"
      ]
     },
     "execution_count": 64,
     "metadata": {},
     "output_type": "execute_result"
    }
   ],
   "source": [
    "expression.head()"
   ]
  },
  {
   "cell_type": "code",
   "execution_count": 65,
   "id": "3289c0c5",
   "metadata": {},
   "outputs": [
    {
     "name": "stdout",
     "output_type": "stream",
     "text": [
      "<class 'pandas.core.frame.DataFrame'>\n",
      "RangeIndex: 456 entries, 0 to 455\n",
      "Data columns (total 26 columns):\n",
      " #   Column                    Non-Null Count  Dtype  \n",
      "---  ------                    --------------  -----  \n",
      " 0   Unnamed: 0                456 non-null    object \n",
      " 1   Gene                      456 non-null    object \n",
      " 2   Gene human                456 non-null    object \n",
      " 3   effect                    456 non-null    object \n",
      " 4   change type               456 non-null    object \n",
      " 5   expression evaluation by  456 non-null    object \n",
      " 6   sample                    456 non-null    object \n",
      " 7   model organism            456 non-null    object \n",
      " 8   line                      452 non-null    object \n",
      " 9   sex                       435 non-null    object \n",
      " 10  change percentage         435 non-null    object \n",
      " 11  p_value                   69 non-null     object \n",
      " 12  age of control - min      3 non-null      float64\n",
      " 13  age of experiment - min   2 non-null      float64\n",
      " 14  age of control - mean     451 non-null    float64\n",
      " 15  age of experiment - mean  454 non-null    float64\n",
      " 16  age of control - max      3 non-null      float64\n",
      " 17  age of experiment - max   1 non-null      float64\n",
      " 18  age unit                  454 non-null    object \n",
      " 19  doi                       450 non-null    object \n",
      " 20  pmid                      7 non-null      float64\n",
      " 21  Unnamed: 21               0 non-null      float64\n",
      " 22  Unnamed: 22               0 non-null      float64\n",
      " 23  Unnamed: 23               0 non-null      float64\n",
      " 24  Unnamed: 24               0 non-null      float64\n",
      " 25  Unnamed: 25               0 non-null      float64\n",
      "dtypes: float64(12), object(14)\n",
      "memory usage: 92.8+ KB\n"
     ]
    }
   ],
   "source": [
    "expression.info()"
   ]
  },
  {
   "cell_type": "code",
   "execution_count": 66,
   "id": "cc11643e",
   "metadata": {},
   "outputs": [
    {
     "data": {
      "text/html": [
       "<div>\n",
       "<style scoped>\n",
       "    .dataframe tbody tr th:only-of-type {\n",
       "        vertical-align: middle;\n",
       "    }\n",
       "\n",
       "    .dataframe tbody tr th {\n",
       "        vertical-align: top;\n",
       "    }\n",
       "\n",
       "    .dataframe thead th {\n",
       "        text-align: right;\n",
       "    }\n",
       "</style>\n",
       "<table border=\"1\" class=\"dataframe\">\n",
       "  <thead>\n",
       "    <tr style=\"text-align: right;\">\n",
       "      <th></th>\n",
       "      <th>age of control - min</th>\n",
       "      <th>age of experiment - min</th>\n",
       "      <th>age of control - mean</th>\n",
       "      <th>age of experiment - mean</th>\n",
       "      <th>age of control - max</th>\n",
       "      <th>age of experiment - max</th>\n",
       "      <th>pmid</th>\n",
       "      <th>Unnamed: 21</th>\n",
       "      <th>Unnamed: 22</th>\n",
       "      <th>Unnamed: 23</th>\n",
       "      <th>Unnamed: 24</th>\n",
       "      <th>Unnamed: 25</th>\n",
       "    </tr>\n",
       "  </thead>\n",
       "  <tbody>\n",
       "    <tr>\n",
       "      <th>count</th>\n",
       "      <td>3.000000</td>\n",
       "      <td>2.000000</td>\n",
       "      <td>451.000000</td>\n",
       "      <td>454.000000</td>\n",
       "      <td>3.000000</td>\n",
       "      <td>1.0</td>\n",
       "      <td>7.000000e+00</td>\n",
       "      <td>0.0</td>\n",
       "      <td>0.0</td>\n",
       "      <td>0.0</td>\n",
       "      <td>0.0</td>\n",
       "      <td>0.0</td>\n",
       "    </tr>\n",
       "    <tr>\n",
       "      <th>mean</th>\n",
       "      <td>4.000000</td>\n",
       "      <td>56.500000</td>\n",
       "      <td>4.387373</td>\n",
       "      <td>31.059361</td>\n",
       "      <td>7.333333</td>\n",
       "      <td>26.0</td>\n",
       "      <td>1.019225e+07</td>\n",
       "      <td>NaN</td>\n",
       "      <td>NaN</td>\n",
       "      <td>NaN</td>\n",
       "      <td>NaN</td>\n",
       "      <td>NaN</td>\n",
       "    </tr>\n",
       "    <tr>\n",
       "      <th>std</th>\n",
       "      <td>3.464102</td>\n",
       "      <td>45.961941</td>\n",
       "      <td>6.618184</td>\n",
       "      <td>68.268335</td>\n",
       "      <td>4.163332</td>\n",
       "      <td>NaN</td>\n",
       "      <td>4.494329e+06</td>\n",
       "      <td>NaN</td>\n",
       "      <td>NaN</td>\n",
       "      <td>NaN</td>\n",
       "      <td>NaN</td>\n",
       "      <td>NaN</td>\n",
       "    </tr>\n",
       "    <tr>\n",
       "      <th>min</th>\n",
       "      <td>2.000000</td>\n",
       "      <td>24.000000</td>\n",
       "      <td>0.000000</td>\n",
       "      <td>2.000000</td>\n",
       "      <td>4.000000</td>\n",
       "      <td>26.0</td>\n",
       "      <td>6.600000e+01</td>\n",
       "      <td>NaN</td>\n",
       "      <td>NaN</td>\n",
       "      <td>NaN</td>\n",
       "      <td>NaN</td>\n",
       "      <td>NaN</td>\n",
       "    </tr>\n",
       "    <tr>\n",
       "      <th>25%</th>\n",
       "      <td>2.000000</td>\n",
       "      <td>40.250000</td>\n",
       "      <td>2.000000</td>\n",
       "      <td>18.000000</td>\n",
       "      <td>5.000000</td>\n",
       "      <td>26.0</td>\n",
       "      <td>1.189094e+07</td>\n",
       "      <td>NaN</td>\n",
       "      <td>NaN</td>\n",
       "      <td>NaN</td>\n",
       "      <td>NaN</td>\n",
       "      <td>NaN</td>\n",
       "    </tr>\n",
       "    <tr>\n",
       "      <th>50%</th>\n",
       "      <td>2.000000</td>\n",
       "      <td>56.500000</td>\n",
       "      <td>3.500000</td>\n",
       "      <td>24.000000</td>\n",
       "      <td>6.000000</td>\n",
       "      <td>26.0</td>\n",
       "      <td>1.189094e+07</td>\n",
       "      <td>NaN</td>\n",
       "      <td>NaN</td>\n",
       "      <td>NaN</td>\n",
       "      <td>NaN</td>\n",
       "      <td>NaN</td>\n",
       "    </tr>\n",
       "    <tr>\n",
       "      <th>75%</th>\n",
       "      <td>5.000000</td>\n",
       "      <td>72.750000</td>\n",
       "      <td>5.000000</td>\n",
       "      <td>30.000000</td>\n",
       "      <td>9.000000</td>\n",
       "      <td>26.0</td>\n",
       "      <td>1.189094e+07</td>\n",
       "      <td>NaN</td>\n",
       "      <td>NaN</td>\n",
       "      <td>NaN</td>\n",
       "      <td>NaN</td>\n",
       "      <td>NaN</td>\n",
       "    </tr>\n",
       "    <tr>\n",
       "      <th>max</th>\n",
       "      <td>8.000000</td>\n",
       "      <td>89.000000</td>\n",
       "      <td>91.000000</td>\n",
       "      <td>910.000000</td>\n",
       "      <td>12.000000</td>\n",
       "      <td>26.0</td>\n",
       "      <td>1.189094e+07</td>\n",
       "      <td>NaN</td>\n",
       "      <td>NaN</td>\n",
       "      <td>NaN</td>\n",
       "      <td>NaN</td>\n",
       "      <td>NaN</td>\n",
       "    </tr>\n",
       "  </tbody>\n",
       "</table>\n",
       "</div>"
      ],
      "text/plain": [
       "       age of control - min  age of experiment - min  age of control - mean  \\\n",
       "count              3.000000                 2.000000             451.000000   \n",
       "mean               4.000000                56.500000               4.387373   \n",
       "std                3.464102                45.961941               6.618184   \n",
       "min                2.000000                24.000000               0.000000   \n",
       "25%                2.000000                40.250000               2.000000   \n",
       "50%                2.000000                56.500000               3.500000   \n",
       "75%                5.000000                72.750000               5.000000   \n",
       "max                8.000000                89.000000              91.000000   \n",
       "\n",
       "       age of experiment - mean  age of control - max  \\\n",
       "count                454.000000              3.000000   \n",
       "mean                  31.059361              7.333333   \n",
       "std                   68.268335              4.163332   \n",
       "min                    2.000000              4.000000   \n",
       "25%                   18.000000              5.000000   \n",
       "50%                   24.000000              6.000000   \n",
       "75%                   30.000000              9.000000   \n",
       "max                  910.000000             12.000000   \n",
       "\n",
       "       age of experiment - max          pmid  Unnamed: 21  Unnamed: 22  \\\n",
       "count                      1.0  7.000000e+00          0.0          0.0   \n",
       "mean                      26.0  1.019225e+07          NaN          NaN   \n",
       "std                        NaN  4.494329e+06          NaN          NaN   \n",
       "min                       26.0  6.600000e+01          NaN          NaN   \n",
       "25%                       26.0  1.189094e+07          NaN          NaN   \n",
       "50%                       26.0  1.189094e+07          NaN          NaN   \n",
       "75%                       26.0  1.189094e+07          NaN          NaN   \n",
       "max                       26.0  1.189094e+07          NaN          NaN   \n",
       "\n",
       "       Unnamed: 23  Unnamed: 24  Unnamed: 25  \n",
       "count          0.0          0.0          0.0  \n",
       "mean           NaN          NaN          NaN  \n",
       "std            NaN          NaN          NaN  \n",
       "min            NaN          NaN          NaN  \n",
       "25%            NaN          NaN          NaN  \n",
       "50%            NaN          NaN          NaN  \n",
       "75%            NaN          NaN          NaN  \n",
       "max            NaN          NaN          NaN  "
      ]
     },
     "execution_count": 66,
     "metadata": {},
     "output_type": "execute_result"
    }
   ],
   "source": [
    "expression.describe()"
   ]
  },
  {
   "cell_type": "markdown",
   "id": "b9a88360",
   "metadata": {},
   "source": [
    "### Шаг 2. Создадим датасеты с 62 уникальными генами, присутствующими в обоих исходных датасетах\n"
   ]
  },
  {
   "cell_type": "markdown",
   "id": "b1c15b81",
   "metadata": {},
   "source": [
    "#### Создадим датасет <mark>gene_diet</mark>  с уникальными генами из датасета <mark>diet</mark>"
   ]
  },
  {
   "cell_type": "code",
   "execution_count": 67,
   "id": "855c14ba",
   "metadata": {},
   "outputs": [
    {
     "data": {
      "text/plain": [
       "Gene         \n",
       "0610007P14Rik    1\n",
       "Podxl2           1\n",
       "Plxnd1           1\n",
       "Pmaip1           1\n",
       "Pmepa1           1\n",
       "                ..\n",
       "Frzb             1\n",
       "Fscn1            1\n",
       "Fsd2             1\n",
       "Fst              1\n",
       "Zyg11a           1\n",
       "Length: 4339, dtype: int64"
      ]
     },
     "execution_count": 67,
     "metadata": {},
     "output_type": "execute_result"
    }
   ],
   "source": [
    "gene_diet = diet['Gene'].unique()\n",
    "gene_diet = pd.Series(gene_diet)\n",
    "gene_diet = pd.DataFrame(gene_diet, columns = ['Gene'])\n",
    "gene_diet.value_counts()"
   ]
  },
  {
   "cell_type": "markdown",
   "id": "efd267bf",
   "metadata": {},
   "source": [
    "#### Вывод: В датасете diet представлено 4339 уникальных гена"
   ]
  },
  {
   "cell_type": "markdown",
   "id": "86830aae",
   "metadata": {},
   "source": [
    "#### Создадим датасет <mark>gene_expression</mark>  с уникальными генами из датасета <mark>expression</mark>"
   ]
  },
  {
   "cell_type": "code",
   "execution_count": 68,
   "id": "62aedc17",
   "metadata": {},
   "outputs": [
    {
     "data": {
      "text/plain": [
       "Gene    \n",
       "Acox1       1\n",
       "Adamts1     1\n",
       "Ppara       1\n",
       "Ppargc1a    1\n",
       "Ppm1d       1\n",
       "           ..\n",
       "Hbp1        1\n",
       "Hdac1       1\n",
       "Hdac2       1\n",
       "Hdac3       1\n",
       "Zfyve9      1\n",
       "Length: 160, dtype: int64"
      ]
     },
     "execution_count": 68,
     "metadata": {},
     "output_type": "execute_result"
    }
   ],
   "source": [
    "gene_expression = expression['Gene'].unique()\n",
    "gene_expression = pd.Series(gene_expression)\n",
    "gene_expression = pd.DataFrame(gene_expression, columns = ['Gene'])\n",
    "gene_expression.value_counts()"
   ]
  },
  {
   "cell_type": "markdown",
   "id": "ee29b5fc",
   "metadata": {},
   "source": [
    "#### Вывод: В датасете expression представлено 160 уникальных гена"
   ]
  },
  {
   "cell_type": "markdown",
   "id": "03386061",
   "metadata": {},
   "source": [
    "#### Создадим датасет <mark>overall_genes</mark> с уникальными генами, которые есть в датасете \"gene_expression\" и \"gene_diet\""
   ]
  },
  {
   "cell_type": "code",
   "execution_count": 69,
   "id": "71ee154c",
   "metadata": {},
   "outputs": [],
   "source": [
    "overall_genes = pd.merge(gene_expression, gene_diet, on = 'Gene', how = 'inner')"
   ]
  },
  {
   "cell_type": "code",
   "execution_count": 70,
   "id": "1c21bf71",
   "metadata": {},
   "outputs": [
    {
     "name": "stdout",
     "output_type": "stream",
     "text": [
      "<class 'pandas.core.frame.DataFrame'>\n",
      "Int64Index: 62 entries, 0 to 61\n",
      "Data columns (total 1 columns):\n",
      " #   Column  Non-Null Count  Dtype \n",
      "---  ------  --------------  ----- \n",
      " 0   Gene    62 non-null     object\n",
      "dtypes: object(1)\n",
      "memory usage: 992.0+ bytes\n"
     ]
    }
   ],
   "source": [
    "overall_genes.info()"
   ]
  },
  {
   "cell_type": "markdown",
   "id": "f72e9e38",
   "metadata": {},
   "source": [
    "#### Вывод: В датасетах expression и diet представлено 62 уникальных гена, которые есть в обоих датасетах"
   ]
  },
  {
   "cell_type": "markdown",
   "id": "70cb953d",
   "metadata": {},
   "source": [
    "### Создадим датасеты diet_overall_genes и expression_overall_genes  из датасетов diet и expression, где будут только эти 62 гена"
   ]
  },
  {
   "cell_type": "code",
   "execution_count": 71,
   "id": "26bd43d4",
   "metadata": {},
   "outputs": [],
   "source": [
    "diet_overall_genes = pd.merge(diet, overall_genes, on = 'Gene', how = 'inner')\n",
    "expression_overall_genes = pd.merge(expression, overall_genes, on = 'Gene', how = 'inner')"
   ]
  },
  {
   "cell_type": "markdown",
   "id": "1ecf3e28",
   "metadata": {},
   "source": [
    "#### <mark>Проанализируем полученные датасеты</mark>"
   ]
  },
  {
   "cell_type": "markdown",
   "id": "c2222aa8",
   "metadata": {},
   "source": [
    "#### 1. датасет diet_overall_genes, созданный на основе датасета diet"
   ]
  },
  {
   "cell_type": "code",
   "execution_count": 72,
   "id": "6ce89cea",
   "metadata": {},
   "outputs": [
    {
     "name": "stdout",
     "output_type": "stream",
     "text": [
      "<class 'pandas.core.frame.DataFrame'>\n",
      "Int64Index: 83 entries, 0 to 82\n",
      "Data columns (total 11 columns):\n",
      " #   Column               Non-Null Count  Dtype \n",
      "---  ------               --------------  ----- \n",
      " 0   Gene                 83 non-null     object\n",
      " 1   effect               83 non-null     object\n",
      " 2   qualityType          83 non-null     object\n",
      " 3   restriction_persent  83 non-null     int64 \n",
      " 4   restriction_time     83 non-null     object\n",
      " 5   age                  83 non-null     object\n",
      " 6   organism             83 non-null     object\n",
      " 7   line                 83 non-null     object\n",
      " 8   sex                  83 non-null     object\n",
      " 9   sample               83 non-null     object\n",
      " 10  link                 83 non-null     object\n",
      "dtypes: int64(1), object(10)\n",
      "memory usage: 7.8+ KB\n"
     ]
    }
   ],
   "source": [
    "diet_overall_genes.info()"
   ]
  },
  {
   "cell_type": "code",
   "execution_count": 73,
   "id": "756369f6",
   "metadata": {},
   "outputs": [
    {
     "data": {
      "text/html": [
       "<div>\n",
       "<style scoped>\n",
       "    .dataframe tbody tr th:only-of-type {\n",
       "        vertical-align: middle;\n",
       "    }\n",
       "\n",
       "    .dataframe tbody tr th {\n",
       "        vertical-align: top;\n",
       "    }\n",
       "\n",
       "    .dataframe thead th {\n",
       "        text-align: right;\n",
       "    }\n",
       "</style>\n",
       "<table border=\"1\" class=\"dataframe\">\n",
       "  <thead>\n",
       "    <tr style=\"text-align: right;\">\n",
       "      <th></th>\n",
       "      <th>restriction_persent</th>\n",
       "    </tr>\n",
       "  </thead>\n",
       "  <tbody>\n",
       "    <tr>\n",
       "      <th>count</th>\n",
       "      <td>83.000000</td>\n",
       "    </tr>\n",
       "    <tr>\n",
       "      <th>mean</th>\n",
       "      <td>47.831325</td>\n",
       "    </tr>\n",
       "    <tr>\n",
       "      <th>std</th>\n",
       "      <td>11.692002</td>\n",
       "    </tr>\n",
       "    <tr>\n",
       "      <th>min</th>\n",
       "      <td>20.000000</td>\n",
       "    </tr>\n",
       "    <tr>\n",
       "      <th>25%</th>\n",
       "      <td>40.000000</td>\n",
       "    </tr>\n",
       "    <tr>\n",
       "      <th>50%</th>\n",
       "      <td>40.000000</td>\n",
       "    </tr>\n",
       "    <tr>\n",
       "      <th>75%</th>\n",
       "      <td>60.000000</td>\n",
       "    </tr>\n",
       "    <tr>\n",
       "      <th>max</th>\n",
       "      <td>60.000000</td>\n",
       "    </tr>\n",
       "  </tbody>\n",
       "</table>\n",
       "</div>"
      ],
      "text/plain": [
       "       restriction_persent\n",
       "count            83.000000\n",
       "mean             47.831325\n",
       "std              11.692002\n",
       "min              20.000000\n",
       "25%              40.000000\n",
       "50%              40.000000\n",
       "75%              60.000000\n",
       "max              60.000000"
      ]
     },
     "execution_count": 73,
     "metadata": {},
     "output_type": "execute_result"
    }
   ],
   "source": [
    "diet_overall_genes.describe()"
   ]
  },
  {
   "cell_type": "code",
   "execution_count": 74,
   "id": "1038a343",
   "metadata": {},
   "outputs": [
    {
     "data": {
      "text/html": [
       "<div>\n",
       "<style scoped>\n",
       "    .dataframe tbody tr th:only-of-type {\n",
       "        vertical-align: middle;\n",
       "    }\n",
       "\n",
       "    .dataframe tbody tr th {\n",
       "        vertical-align: top;\n",
       "    }\n",
       "\n",
       "    .dataframe thead th {\n",
       "        text-align: right;\n",
       "    }\n",
       "</style>\n",
       "<table border=\"1\" class=\"dataframe\">\n",
       "  <thead>\n",
       "    <tr style=\"text-align: right;\">\n",
       "      <th></th>\n",
       "      <th>Gene</th>\n",
       "      <th>effect</th>\n",
       "      <th>qualityType</th>\n",
       "      <th>restriction_persent</th>\n",
       "      <th>restriction_time</th>\n",
       "      <th>age</th>\n",
       "      <th>organism</th>\n",
       "      <th>line</th>\n",
       "      <th>sex</th>\n",
       "      <th>sample</th>\n",
       "      <th>link</th>\n",
       "    </tr>\n",
       "  </thead>\n",
       "  <tbody>\n",
       "    <tr>\n",
       "      <th>0</th>\n",
       "      <td>Acox1</td>\n",
       "      <td>decrease</td>\n",
       "      <td>mRNA</td>\n",
       "      <td>60</td>\n",
       "      <td>20_days</td>\n",
       "      <td>20_weeks</td>\n",
       "      <td>mouse</td>\n",
       "      <td>C57BL/6J</td>\n",
       "      <td>both</td>\n",
       "      <td>muscle</td>\n",
       "      <td>10.3390/genes12050691</td>\n",
       "    </tr>\n",
       "    <tr>\n",
       "      <th>1</th>\n",
       "      <td>Adamts1</td>\n",
       "      <td>decrease</td>\n",
       "      <td>mRNA</td>\n",
       "      <td>40</td>\n",
       "      <td>16_weeks</td>\n",
       "      <td>5_months</td>\n",
       "      <td>mouse</td>\n",
       "      <td>C57BL/6J</td>\n",
       "      <td>male</td>\n",
       "      <td>liver</td>\n",
       "      <td>10.1038/s41598-017-00267-9</td>\n",
       "    </tr>\n",
       "    <tr>\n",
       "      <th>2</th>\n",
       "      <td>Brca1</td>\n",
       "      <td>increase</td>\n",
       "      <td>mRNA</td>\n",
       "      <td>40</td>\n",
       "      <td>16_weeks</td>\n",
       "      <td>5_months</td>\n",
       "      <td>mouse</td>\n",
       "      <td>C57BL/6J</td>\n",
       "      <td>male</td>\n",
       "      <td>liver</td>\n",
       "      <td>10.1038/s41598-017-00267-9</td>\n",
       "    </tr>\n",
       "    <tr>\n",
       "      <th>3</th>\n",
       "      <td>C1qb</td>\n",
       "      <td>decrease</td>\n",
       "      <td>mRNA</td>\n",
       "      <td>40</td>\n",
       "      <td>16_weeks</td>\n",
       "      <td>5_months</td>\n",
       "      <td>mouse</td>\n",
       "      <td>C57BL/6J</td>\n",
       "      <td>male</td>\n",
       "      <td>liver</td>\n",
       "      <td>10.1038/s41598-017-00267-9</td>\n",
       "    </tr>\n",
       "    <tr>\n",
       "      <th>4</th>\n",
       "      <td>Ccnd1</td>\n",
       "      <td>increase</td>\n",
       "      <td>mRNA</td>\n",
       "      <td>40</td>\n",
       "      <td>16_weeks</td>\n",
       "      <td>5_months</td>\n",
       "      <td>mouse</td>\n",
       "      <td>C57BL/6J</td>\n",
       "      <td>male</td>\n",
       "      <td>liver</td>\n",
       "      <td>10.1038/s41598-017-00267-9</td>\n",
       "    </tr>\n",
       "  </tbody>\n",
       "</table>\n",
       "</div>"
      ],
      "text/plain": [
       "      Gene    effect qualityType  restriction_persent restriction_time  \\\n",
       "0    Acox1  decrease        mRNA                   60          20_days   \n",
       "1  Adamts1  decrease        mRNA                   40         16_weeks   \n",
       "2    Brca1  increase        mRNA                   40         16_weeks   \n",
       "3     C1qb  decrease        mRNA                   40         16_weeks   \n",
       "4    Ccnd1  increase        mRNA                   40         16_weeks   \n",
       "\n",
       "        age organism      line   sex  sample                        link  \n",
       "0  20_weeks    mouse  C57BL/6J  both  muscle       10.3390/genes12050691  \n",
       "1  5_months    mouse  C57BL/6J  male   liver  10.1038/s41598-017-00267-9  \n",
       "2  5_months    mouse  C57BL/6J  male   liver  10.1038/s41598-017-00267-9  \n",
       "3  5_months    mouse  C57BL/6J  male   liver  10.1038/s41598-017-00267-9  \n",
       "4  5_months    mouse  C57BL/6J  male   liver  10.1038/s41598-017-00267-9  "
      ]
     },
     "execution_count": 74,
     "metadata": {},
     "output_type": "execute_result"
    }
   ],
   "source": [
    "diet_overall_genes.head()"
   ]
  },
  {
   "cell_type": "markdown",
   "id": "b88914ec",
   "metadata": {},
   "source": [
    "#### 2. датасет expression_overall_genes, созданный на основе датасета expression"
   ]
  },
  {
   "cell_type": "code",
   "execution_count": 75,
   "id": "1a453ce3",
   "metadata": {},
   "outputs": [
    {
     "data": {
      "text/html": [
       "<div>\n",
       "<style scoped>\n",
       "    .dataframe tbody tr th:only-of-type {\n",
       "        vertical-align: middle;\n",
       "    }\n",
       "\n",
       "    .dataframe tbody tr th {\n",
       "        vertical-align: top;\n",
       "    }\n",
       "\n",
       "    .dataframe thead th {\n",
       "        text-align: right;\n",
       "    }\n",
       "</style>\n",
       "<table border=\"1\" class=\"dataframe\">\n",
       "  <thead>\n",
       "    <tr style=\"text-align: right;\">\n",
       "      <th></th>\n",
       "      <th>Unnamed: 0</th>\n",
       "      <th>Gene</th>\n",
       "      <th>Gene human</th>\n",
       "      <th>effect</th>\n",
       "      <th>change type</th>\n",
       "      <th>expression evaluation by</th>\n",
       "      <th>sample</th>\n",
       "      <th>model organism</th>\n",
       "      <th>line</th>\n",
       "      <th>sex</th>\n",
       "      <th>...</th>\n",
       "      <th>age of control - max</th>\n",
       "      <th>age of experiment - max</th>\n",
       "      <th>age unit</th>\n",
       "      <th>doi</th>\n",
       "      <th>pmid</th>\n",
       "      <th>Unnamed: 21</th>\n",
       "      <th>Unnamed: 22</th>\n",
       "      <th>Unnamed: 23</th>\n",
       "      <th>Unnamed: 24</th>\n",
       "      <th>Unnamed: 25</th>\n",
       "    </tr>\n",
       "  </thead>\n",
       "  <tbody>\n",
       "    <tr>\n",
       "      <th>0</th>\n",
       "      <td>1</td>\n",
       "      <td>Acox1</td>\n",
       "      <td>ACOX1</td>\n",
       "      <td>increase</td>\n",
       "      <td>increased gene expression</td>\n",
       "      <td>mRNA</td>\n",
       "      <td>acoustic nerve</td>\n",
       "      <td>mouse</td>\n",
       "      <td>C57BL/6</td>\n",
       "      <td>male</td>\n",
       "      <td>...</td>\n",
       "      <td>NaN</td>\n",
       "      <td>NaN</td>\n",
       "      <td>months</td>\n",
       "      <td>10.1016/j.bbadis.2013.10.017</td>\n",
       "      <td>NaN</td>\n",
       "      <td>NaN</td>\n",
       "      <td>NaN</td>\n",
       "      <td>NaN</td>\n",
       "      <td>NaN</td>\n",
       "      <td>NaN</td>\n",
       "    </tr>\n",
       "    <tr>\n",
       "      <th>1</th>\n",
       "      <td>2</td>\n",
       "      <td>Adamts1</td>\n",
       "      <td>ADAMTS1</td>\n",
       "      <td>increase</td>\n",
       "      <td>increased gene expression</td>\n",
       "      <td>mRNA</td>\n",
       "      <td>acoustic nerve</td>\n",
       "      <td>mouse</td>\n",
       "      <td>C57BL/6</td>\n",
       "      <td>both</td>\n",
       "      <td>...</td>\n",
       "      <td>NaN</td>\n",
       "      <td>NaN</td>\n",
       "      <td>months</td>\n",
       "      <td>10.1152/ajpendo.00040.2016</td>\n",
       "      <td>NaN</td>\n",
       "      <td>NaN</td>\n",
       "      <td>NaN</td>\n",
       "      <td>NaN</td>\n",
       "      <td>NaN</td>\n",
       "      <td>NaN</td>\n",
       "    </tr>\n",
       "    <tr>\n",
       "      <th>2</th>\n",
       "      <td>3</td>\n",
       "      <td>Adamts1</td>\n",
       "      <td>ADAMTS1</td>\n",
       "      <td>increase</td>\n",
       "      <td>increased gene expression</td>\n",
       "      <td>mRNA</td>\n",
       "      <td>acoustic nerve</td>\n",
       "      <td>mouse</td>\n",
       "      <td>C57BL/6</td>\n",
       "      <td>both</td>\n",
       "      <td>...</td>\n",
       "      <td>NaN</td>\n",
       "      <td>NaN</td>\n",
       "      <td>months</td>\n",
       "      <td>10.1152/ajpendo.00040.2016</td>\n",
       "      <td>NaN</td>\n",
       "      <td>NaN</td>\n",
       "      <td>NaN</td>\n",
       "      <td>NaN</td>\n",
       "      <td>NaN</td>\n",
       "      <td>NaN</td>\n",
       "    </tr>\n",
       "    <tr>\n",
       "      <th>3</th>\n",
       "      <td>12</td>\n",
       "      <td>Brca1</td>\n",
       "      <td>BRCA1</td>\n",
       "      <td>decrease</td>\n",
       "      <td>decreased gene expression</td>\n",
       "      <td>mRNA</td>\n",
       "      <td>aortic valves</td>\n",
       "      <td>mouse</td>\n",
       "      <td>FVB</td>\n",
       "      <td>female</td>\n",
       "      <td>...</td>\n",
       "      <td>NaN</td>\n",
       "      <td>NaN</td>\n",
       "      <td>months</td>\n",
       "      <td>10.1126/scitranslmed.3004925</td>\n",
       "      <td>NaN</td>\n",
       "      <td>NaN</td>\n",
       "      <td>NaN</td>\n",
       "      <td>NaN</td>\n",
       "      <td>NaN</td>\n",
       "      <td>NaN</td>\n",
       "    </tr>\n",
       "    <tr>\n",
       "      <th>4</th>\n",
       "      <td>16</td>\n",
       "      <td>C1qb</td>\n",
       "      <td>C1QB</td>\n",
       "      <td>increase</td>\n",
       "      <td>increased gene expression</td>\n",
       "      <td>mRNA</td>\n",
       "      <td>bone</td>\n",
       "      <td>mouse</td>\n",
       "      <td>C57BL/6N</td>\n",
       "      <td>NaN</td>\n",
       "      <td>...</td>\n",
       "      <td>NaN</td>\n",
       "      <td>NaN</td>\n",
       "      <td>months</td>\n",
       "      <td>10.1016/j.exger.2018.05.001</td>\n",
       "      <td>NaN</td>\n",
       "      <td>NaN</td>\n",
       "      <td>NaN</td>\n",
       "      <td>NaN</td>\n",
       "      <td>NaN</td>\n",
       "      <td>NaN</td>\n",
       "    </tr>\n",
       "  </tbody>\n",
       "</table>\n",
       "<p>5 rows × 26 columns</p>\n",
       "</div>"
      ],
      "text/plain": [
       "  Unnamed: 0     Gene Gene human    effect                change type  \\\n",
       "0          1    Acox1      ACOX1  increase  increased gene expression   \n",
       "1          2  Adamts1    ADAMTS1  increase  increased gene expression   \n",
       "2          3  Adamts1    ADAMTS1  increase  increased gene expression   \n",
       "3         12    Brca1      BRCA1  decrease  decreased gene expression   \n",
       "4         16     C1qb       C1QB  increase  increased gene expression   \n",
       "\n",
       "  expression evaluation by          sample model organism      line     sex  \\\n",
       "0                     mRNA  acoustic nerve          mouse   C57BL/6    male   \n",
       "1                     mRNA  acoustic nerve          mouse   C57BL/6    both   \n",
       "2                     mRNA  acoustic nerve          mouse   C57BL/6    both   \n",
       "3                     mRNA   aortic valves          mouse       FVB  female   \n",
       "4                     mRNA            bone          mouse  C57BL/6N     NaN   \n",
       "\n",
       "   ... age of control - max age of experiment - max  age unit  \\\n",
       "0  ...                  NaN                     NaN    months   \n",
       "1  ...                  NaN                     NaN    months   \n",
       "2  ...                  NaN                     NaN    months   \n",
       "3  ...                  NaN                     NaN    months   \n",
       "4  ...                  NaN                     NaN    months   \n",
       "\n",
       "                            doi  pmid  Unnamed: 21  Unnamed: 22  Unnamed: 23  \\\n",
       "0  10.1016/j.bbadis.2013.10.017   NaN          NaN          NaN          NaN   \n",
       "1    10.1152/ajpendo.00040.2016   NaN          NaN          NaN          NaN   \n",
       "2    10.1152/ajpendo.00040.2016   NaN          NaN          NaN          NaN   \n",
       "3  10.1126/scitranslmed.3004925   NaN          NaN          NaN          NaN   \n",
       "4   10.1016/j.exger.2018.05.001   NaN          NaN          NaN          NaN   \n",
       "\n",
       "  Unnamed: 24 Unnamed: 25  \n",
       "0         NaN         NaN  \n",
       "1         NaN         NaN  \n",
       "2         NaN         NaN  \n",
       "3         NaN         NaN  \n",
       "4         NaN         NaN  \n",
       "\n",
       "[5 rows x 26 columns]"
      ]
     },
     "execution_count": 75,
     "metadata": {},
     "output_type": "execute_result"
    }
   ],
   "source": [
    "expression_overall_genes.head()"
   ]
  },
  {
   "cell_type": "code",
   "execution_count": 76,
   "id": "d149b9dd",
   "metadata": {},
   "outputs": [
    {
     "data": {
      "text/html": [
       "<div>\n",
       "<style scoped>\n",
       "    .dataframe tbody tr th:only-of-type {\n",
       "        vertical-align: middle;\n",
       "    }\n",
       "\n",
       "    .dataframe tbody tr th {\n",
       "        vertical-align: top;\n",
       "    }\n",
       "\n",
       "    .dataframe thead th {\n",
       "        text-align: right;\n",
       "    }\n",
       "</style>\n",
       "<table border=\"1\" class=\"dataframe\">\n",
       "  <thead>\n",
       "    <tr style=\"text-align: right;\">\n",
       "      <th></th>\n",
       "      <th>age of control - min</th>\n",
       "      <th>age of experiment - min</th>\n",
       "      <th>age of control - mean</th>\n",
       "      <th>age of experiment - mean</th>\n",
       "      <th>age of control - max</th>\n",
       "      <th>age of experiment - max</th>\n",
       "      <th>pmid</th>\n",
       "      <th>Unnamed: 21</th>\n",
       "      <th>Unnamed: 22</th>\n",
       "      <th>Unnamed: 23</th>\n",
       "      <th>Unnamed: 24</th>\n",
       "      <th>Unnamed: 25</th>\n",
       "    </tr>\n",
       "  </thead>\n",
       "  <tbody>\n",
       "    <tr>\n",
       "      <th>count</th>\n",
       "      <td>2.000000</td>\n",
       "      <td>2.000000</td>\n",
       "      <td>181.000000</td>\n",
       "      <td>181.000000</td>\n",
       "      <td>2.000000</td>\n",
       "      <td>1.0</td>\n",
       "      <td>1.0</td>\n",
       "      <td>0.0</td>\n",
       "      <td>0.0</td>\n",
       "      <td>0.0</td>\n",
       "      <td>0.0</td>\n",
       "      <td>0.0</td>\n",
       "    </tr>\n",
       "    <tr>\n",
       "      <th>mean</th>\n",
       "      <td>5.000000</td>\n",
       "      <td>56.500000</td>\n",
       "      <td>4.495055</td>\n",
       "      <td>32.579834</td>\n",
       "      <td>8.000000</td>\n",
       "      <td>26.0</td>\n",
       "      <td>66.0</td>\n",
       "      <td>NaN</td>\n",
       "      <td>NaN</td>\n",
       "      <td>NaN</td>\n",
       "      <td>NaN</td>\n",
       "      <td>NaN</td>\n",
       "    </tr>\n",
       "    <tr>\n",
       "      <th>std</th>\n",
       "      <td>4.242641</td>\n",
       "      <td>45.961941</td>\n",
       "      <td>9.603052</td>\n",
       "      <td>94.318301</td>\n",
       "      <td>5.656854</td>\n",
       "      <td>NaN</td>\n",
       "      <td>NaN</td>\n",
       "      <td>NaN</td>\n",
       "      <td>NaN</td>\n",
       "      <td>NaN</td>\n",
       "      <td>NaN</td>\n",
       "      <td>NaN</td>\n",
       "    </tr>\n",
       "    <tr>\n",
       "      <th>min</th>\n",
       "      <td>2.000000</td>\n",
       "      <td>24.000000</td>\n",
       "      <td>0.000000</td>\n",
       "      <td>3.000000</td>\n",
       "      <td>4.000000</td>\n",
       "      <td>26.0</td>\n",
       "      <td>66.0</td>\n",
       "      <td>NaN</td>\n",
       "      <td>NaN</td>\n",
       "      <td>NaN</td>\n",
       "      <td>NaN</td>\n",
       "      <td>NaN</td>\n",
       "    </tr>\n",
       "    <tr>\n",
       "      <th>25%</th>\n",
       "      <td>3.500000</td>\n",
       "      <td>40.250000</td>\n",
       "      <td>2.000000</td>\n",
       "      <td>14.000000</td>\n",
       "      <td>6.000000</td>\n",
       "      <td>26.0</td>\n",
       "      <td>66.0</td>\n",
       "      <td>NaN</td>\n",
       "      <td>NaN</td>\n",
       "      <td>NaN</td>\n",
       "      <td>NaN</td>\n",
       "      <td>NaN</td>\n",
       "    </tr>\n",
       "    <tr>\n",
       "      <th>50%</th>\n",
       "      <td>5.000000</td>\n",
       "      <td>56.500000</td>\n",
       "      <td>3.000000</td>\n",
       "      <td>21.000000</td>\n",
       "      <td>8.000000</td>\n",
       "      <td>26.0</td>\n",
       "      <td>66.0</td>\n",
       "      <td>NaN</td>\n",
       "      <td>NaN</td>\n",
       "      <td>NaN</td>\n",
       "      <td>NaN</td>\n",
       "      <td>NaN</td>\n",
       "    </tr>\n",
       "    <tr>\n",
       "      <th>75%</th>\n",
       "      <td>6.500000</td>\n",
       "      <td>72.750000</td>\n",
       "      <td>5.000000</td>\n",
       "      <td>25.000000</td>\n",
       "      <td>10.000000</td>\n",
       "      <td>26.0</td>\n",
       "      <td>66.0</td>\n",
       "      <td>NaN</td>\n",
       "      <td>NaN</td>\n",
       "      <td>NaN</td>\n",
       "      <td>NaN</td>\n",
       "      <td>NaN</td>\n",
       "    </tr>\n",
       "    <tr>\n",
       "      <th>max</th>\n",
       "      <td>8.000000</td>\n",
       "      <td>89.000000</td>\n",
       "      <td>91.000000</td>\n",
       "      <td>910.000000</td>\n",
       "      <td>12.000000</td>\n",
       "      <td>26.0</td>\n",
       "      <td>66.0</td>\n",
       "      <td>NaN</td>\n",
       "      <td>NaN</td>\n",
       "      <td>NaN</td>\n",
       "      <td>NaN</td>\n",
       "      <td>NaN</td>\n",
       "    </tr>\n",
       "  </tbody>\n",
       "</table>\n",
       "</div>"
      ],
      "text/plain": [
       "       age of control - min  age of experiment - min  age of control - mean  \\\n",
       "count              2.000000                 2.000000             181.000000   \n",
       "mean               5.000000                56.500000               4.495055   \n",
       "std                4.242641                45.961941               9.603052   \n",
       "min                2.000000                24.000000               0.000000   \n",
       "25%                3.500000                40.250000               2.000000   \n",
       "50%                5.000000                56.500000               3.000000   \n",
       "75%                6.500000                72.750000               5.000000   \n",
       "max                8.000000                89.000000              91.000000   \n",
       "\n",
       "       age of experiment - mean  age of control - max  \\\n",
       "count                181.000000              2.000000   \n",
       "mean                  32.579834              8.000000   \n",
       "std                   94.318301              5.656854   \n",
       "min                    3.000000              4.000000   \n",
       "25%                   14.000000              6.000000   \n",
       "50%                   21.000000              8.000000   \n",
       "75%                   25.000000             10.000000   \n",
       "max                  910.000000             12.000000   \n",
       "\n",
       "       age of experiment - max  pmid  Unnamed: 21  Unnamed: 22  Unnamed: 23  \\\n",
       "count                      1.0   1.0          0.0          0.0          0.0   \n",
       "mean                      26.0  66.0          NaN          NaN          NaN   \n",
       "std                        NaN   NaN          NaN          NaN          NaN   \n",
       "min                       26.0  66.0          NaN          NaN          NaN   \n",
       "25%                       26.0  66.0          NaN          NaN          NaN   \n",
       "50%                       26.0  66.0          NaN          NaN          NaN   \n",
       "75%                       26.0  66.0          NaN          NaN          NaN   \n",
       "max                       26.0  66.0          NaN          NaN          NaN   \n",
       "\n",
       "       Unnamed: 24  Unnamed: 25  \n",
       "count          0.0          0.0  \n",
       "mean           NaN          NaN  \n",
       "std            NaN          NaN  \n",
       "min            NaN          NaN  \n",
       "25%            NaN          NaN  \n",
       "50%            NaN          NaN  \n",
       "75%            NaN          NaN  \n",
       "max            NaN          NaN  "
      ]
     },
     "execution_count": 76,
     "metadata": {},
     "output_type": "execute_result"
    }
   ],
   "source": [
    "expression_overall_genes.describe()"
   ]
  },
  {
   "cell_type": "code",
   "execution_count": 77,
   "id": "240e9b2f",
   "metadata": {},
   "outputs": [
    {
     "name": "stdout",
     "output_type": "stream",
     "text": [
      "<class 'pandas.core.frame.DataFrame'>\n",
      "Int64Index: 181 entries, 0 to 180\n",
      "Data columns (total 26 columns):\n",
      " #   Column                    Non-Null Count  Dtype  \n",
      "---  ------                    --------------  -----  \n",
      " 0   Unnamed: 0                181 non-null    object \n",
      " 1   Gene                      181 non-null    object \n",
      " 2   Gene human                181 non-null    object \n",
      " 3   effect                    181 non-null    object \n",
      " 4   change type               181 non-null    object \n",
      " 5   expression evaluation by  181 non-null    object \n",
      " 6   sample                    181 non-null    object \n",
      " 7   model organism            181 non-null    object \n",
      " 8   line                      180 non-null    object \n",
      " 9   sex                       171 non-null    object \n",
      " 10  change percentage         171 non-null    object \n",
      " 11  p_value                   27 non-null     object \n",
      " 12  age of control - min      2 non-null      float64\n",
      " 13  age of experiment - min   2 non-null      float64\n",
      " 14  age of control - mean     181 non-null    float64\n",
      " 15  age of experiment - mean  181 non-null    float64\n",
      " 16  age of control - max      2 non-null      float64\n",
      " 17  age of experiment - max   1 non-null      float64\n",
      " 18  age unit                  181 non-null    object \n",
      " 19  doi                       181 non-null    object \n",
      " 20  pmid                      1 non-null      float64\n",
      " 21  Unnamed: 21               0 non-null      float64\n",
      " 22  Unnamed: 22               0 non-null      float64\n",
      " 23  Unnamed: 23               0 non-null      float64\n",
      " 24  Unnamed: 24               0 non-null      float64\n",
      " 25  Unnamed: 25               0 non-null      float64\n",
      "dtypes: float64(12), object(14)\n",
      "memory usage: 38.2+ KB\n"
     ]
    }
   ],
   "source": [
    "expression_overall_genes.info()"
   ]
  },
  {
   "cell_type": "markdown",
   "id": "b78d3031",
   "metadata": {},
   "source": [
    "### Шаг 3. Создадим датасеты с 9 уникальными генами, присутствующими в обоих исходных датасетах и имеющими более 1 записи в каждом"
   ]
  },
  {
   "cell_type": "markdown",
   "id": "541c8c27",
   "metadata": {},
   "source": [
    "#### Посмотрим какое количество экспериментов было произведено по каждому гену"
   ]
  },
  {
   "cell_type": "code",
   "execution_count": 78,
   "id": "60224f57",
   "metadata": {},
   "outputs": [
    {
     "data": {
      "text/plain": [
       "Gclm      5\n",
       "Foxo1     3\n",
       "Sncg      3\n",
       "Dbn1      3\n",
       "Spp1      2\n",
       "Pdgfb     2\n",
       "Egr1      2\n",
       "Jun       2\n",
       "Kdr       2\n",
       "Ucp3      2\n",
       "Wnt4      2\n",
       "Wnt5a     2\n",
       "Cdkn1a    2\n",
       "Ccnd1     2\n",
       "Igfbp3    2\n",
       "Lamb1     1\n",
       "Mdm2      1\n",
       "Pdgfra    1\n",
       "Nfkbia    1\n",
       "Nrip1     1\n",
       "Name: Gene, dtype: int64"
      ]
     },
     "execution_count": 78,
     "metadata": {},
     "output_type": "execute_result"
    }
   ],
   "source": [
    "diet_overall_genes['Gene'].value_counts().head(20)"
   ]
  },
  {
   "cell_type": "code",
   "execution_count": 79,
   "id": "54fe676b",
   "metadata": {},
   "outputs": [
    {
     "data": {
      "text/plain": [
       "Igfbp5      14\n",
       "Cdkn1a      10\n",
       "Wnt5b        9\n",
       "Pdgfra       7\n",
       "Pdgfb        6\n",
       "Efemp1       6\n",
       "Col4a1       6\n",
       "Col4a2       6\n",
       "Sub1         6\n",
       "Nrip1        5\n",
       "Wnt5a        5\n",
       "Nfkbia       4\n",
       "Mmp9         4\n",
       "Ppargc1a     4\n",
       "Gpcpd1       4\n",
       "Zfyve9       4\n",
       "Cisd2        4\n",
       "Hdac2        3\n",
       "Cybb         3\n",
       "C1qb         3\n",
       "Sirt3        3\n",
       "Sncg         3\n",
       "Frzb         3\n",
       "Dixdc1       3\n",
       "Fzd2         2\n",
       "Flt1         2\n",
       "Wnt9b        2\n",
       "Ucp2         2\n",
       "Ccnd1        2\n",
       "Porcn        2\n",
       "Ppara        2\n",
       "Lama3        2\n",
       "Timp2        2\n",
       "Col4a4       2\n",
       "Gclm         2\n",
       "Igfbp3       2\n",
       "Adamts1      2\n",
       "Dvl2         2\n",
       "Slc19a1      2\n",
       "Wnt4         2\n",
       "Gdf11        2\n",
       "Ucp3         2\n",
       "Rela         1\n",
       "Spp1         1\n",
       "Acox1        1\n",
       "Name: Gene, dtype: int64"
      ]
     },
     "execution_count": 79,
     "metadata": {},
     "output_type": "execute_result"
    }
   ],
   "source": [
    "expression_overall_genes['Gene'].value_counts().head(45)"
   ]
  },
  {
   "cell_type": "markdown",
   "id": "ca65c5a6",
   "metadata": {},
   "source": [
    "#### Вывод: Видно, что больше всего диета повлияла на гены Gclm = 5, Dbn1 = 3, Foxo1 = 3, Sncg = 3\n",
    "####                Видно, что больше всего возраст повлиял на гены Igfbp5 = 14, Cdkn1a = 10, Wnt5b = 9, PdgFra = 7"
   ]
  },
  {
   "cell_type": "markdown",
   "id": "76491444",
   "metadata": {},
   "source": [
    "#### Посмотрим те гены, которые имели количество записей больше 1 раза в обоих датасетах"
   ]
  },
  {
   "cell_type": "code",
   "execution_count": 80,
   "id": "e0fdc0c4",
   "metadata": {},
   "outputs": [
    {
     "name": "stdout",
     "output_type": "stream",
     "text": [
      "<class 'pandas.core.frame.DataFrame'>\n",
      "RangeIndex: 15 entries, 0 to 14\n",
      "Data columns (total 1 columns):\n",
      " #   Column  Non-Null Count  Dtype \n",
      "---  ------  --------------  ----- \n",
      " 0   Gene    15 non-null     object\n",
      "dtypes: object(1)\n",
      "memory usage: 248.0+ bytes\n"
     ]
    }
   ],
   "source": [
    "max_d_genes = ['Gclm', 'Dbn1', 'Foxo1', 'Sncg', 'Pdgfb', 'Egr1', 'Jun', 'Spp1', 'Kdr', 'Ucp3',\n",
    "               'Wnt4', 'Wnt5a', 'Cdkn1a', 'Ccnd1', 'Igfbp3']\n",
    "max_d_genes = pd.DataFrame(max_d_genes, columns = ['Gene'])\n",
    "max_d_genes.info()"
   ]
  },
  {
   "cell_type": "code",
   "execution_count": 81,
   "id": "ae7f4abb",
   "metadata": {},
   "outputs": [
    {
     "name": "stdout",
     "output_type": "stream",
     "text": [
      "<class 'pandas.core.frame.DataFrame'>\n",
      "RangeIndex: 42 entries, 0 to 41\n",
      "Data columns (total 1 columns):\n",
      " #   Column  Non-Null Count  Dtype \n",
      "---  ------  --------------  ----- \n",
      " 0   Gene    42 non-null     object\n",
      "dtypes: object(1)\n",
      "memory usage: 464.0+ bytes\n"
     ]
    }
   ],
   "source": [
    "max_ex_genes = ['Igfbp5', 'Cdkn1a', 'Wnt5b', 'Pdgfra', 'Pdgfb', 'Efemp1', 'Col4a1', 'Col4a2', 'Sub1', 'Nrip1', \n",
    "                'Wnt5a', 'Nfkbia', 'Mmp9', 'Ppargc1a', 'Gpcpd1', 'Zfyve9', 'Cisd2', 'Hdac2', 'Cybb', 'C1qb', 'Sirt3',\n",
    "                 'Sncg', 'Frzb', 'Dixdc1', 'Fzd2', 'Flt1', 'Wnt9b', 'Ucp2', 'Ccnd1', 'Porcn', 'Ppara', 'Lama3', 'Timp2',\n",
    "                'Col4a4', 'Gclm', 'Igfbp3', 'Adamts1', 'Dvl2', 'Slc19a1', 'Wnt4', 'Gdf11', 'Ucp3' ]\n",
    "max_ex_genes = pd.DataFrame(max_ex_genes, columns = ['Gene'])\n",
    "max_ex_genes.info()"
   ]
  },
  {
   "cell_type": "code",
   "execution_count": 82,
   "id": "81054447",
   "metadata": {},
   "outputs": [
    {
     "name": "stdout",
     "output_type": "stream",
     "text": [
      "<class 'pandas.core.frame.DataFrame'>\n",
      "Int64Index: 9 entries, 0 to 8\n",
      "Data columns (total 1 columns):\n",
      " #   Column  Non-Null Count  Dtype \n",
      "---  ------  --------------  ----- \n",
      " 0   Gene    9 non-null      object\n",
      "dtypes: object(1)\n",
      "memory usage: 144.0+ bytes\n"
     ]
    }
   ],
   "source": [
    "max_genes = pd.merge(max_d_genes, max_ex_genes, on = 'Gene', how = 'inner')\n",
    "max_genes.info()"
   ]
  },
  {
   "cell_type": "markdown",
   "id": "f690a3cd",
   "metadata": {},
   "source": [
    "### Создадим датасеты diet_overall_max_genes и exp_overall_max_genes  из датасетов diet_overall_genes и expression_overall_genes, где будут только эти 9 генов"
   ]
  },
  {
   "cell_type": "code",
   "execution_count": 83,
   "id": "ec74078f",
   "metadata": {},
   "outputs": [],
   "source": [
    "diet_overall_max_genes = pd.merge(diet_overall_genes, max_genes, on = 'Gene', how = 'inner')\n",
    "exp_overall_max_genes = pd.merge(expression_overall_genes, max_genes, on = 'Gene', how = 'inner')"
   ]
  },
  {
   "cell_type": "markdown",
   "id": "dcd81b94",
   "metadata": {},
   "source": [
    "### Шаг 4. Преобразуем данные в датасетах для построения графиков Heatmap"
   ]
  },
  {
   "cell_type": "code",
   "execution_count": 84,
   "id": "863019ae",
   "metadata": {},
   "outputs": [],
   "source": [
    "diet_overall_days = diet_overall_genes.copy()\n",
    "expression_overall_days = expression_overall_genes.copy()"
   ]
  },
  {
   "cell_type": "markdown",
   "id": "58e23bd3",
   "metadata": {},
   "source": [
    "#### Рассмотрим датасет diet_overall_days. Данные в столбцах restriction_time, age и effect, sex указаны в типе object. Удобно привести к типу float и одному минимальному типу исчисления, для построения графика Heatmap. Минимальное уникальное значение в столбце restriction_time - 20_days. Значит мерой исчисления столбцов restriction_time и age будет days. Добавим новые столбцы restriction_time_days и age_days в датасет diet_overall_genes. Также значения в столбце effect заменим на числовые значения decrease на -1 и increase на 1. Значения в столбце sex заменим на числовые значения male на -1, both на 0 и female на 1."
   ]
  },
  {
   "cell_type": "code",
   "execution_count": 85,
   "id": "ed0a5b44",
   "metadata": {},
   "outputs": [
    {
     "data": {
      "text/plain": [
       "array(['20_days', '16_weeks', '8_months'], dtype=object)"
      ]
     },
     "execution_count": 85,
     "metadata": {},
     "output_type": "execute_result"
    }
   ],
   "source": [
    "diet_overall_days['restriction_time'].unique()"
   ]
  },
  {
   "cell_type": "code",
   "execution_count": 86,
   "id": "7bd7b700",
   "metadata": {},
   "outputs": [
    {
     "data": {
      "text/plain": [
       "array(['both', 'male'], dtype=object)"
      ]
     },
     "execution_count": 86,
     "metadata": {},
     "output_type": "execute_result"
    }
   ],
   "source": [
    "diet_overall_days['sex'].unique()"
   ]
  },
  {
   "cell_type": "code",
   "execution_count": 87,
   "id": "cc6b7061",
   "metadata": {},
   "outputs": [],
   "source": [
    "diet_overall_days.loc[(diet_overall_days.restriction_time == '20_days'), 'restriction_time'] = 20\n",
    "diet_overall_days.loc[(diet_overall_days.restriction_time == '16_weeks'), 'restriction_time'] = 112\n",
    "diet_overall_days.loc[(diet_overall_days.restriction_time == '8_months'), 'restriction_time'] = 240\n",
    "\n",
    "diet_overall_days.loc[(diet_overall_days.age == '20_weeks'), 'age'] = 140\n",
    "diet_overall_days.loc[(diet_overall_days.age == '5_months'), 'age'] = 150\n",
    "diet_overall_days.loc[(diet_overall_days.age == '80_weeks'), 'age'] = 560\n",
    "diet_overall_days.loc[(diet_overall_days.age == '3_months'), 'age'] = 90\n",
    "\n",
    "diet_overall_days.loc[(diet_overall_days.effect == 'decrease'), 'effect'] = 0\n",
    "diet_overall_days.loc[(diet_overall_days.effect == 'increase'), 'effect'] = 1\n",
    "\n",
    "diet_overall_days.loc[(diet_overall_days['sex'] == 'male'), 'sex'] = -1\n",
    "diet_overall_days.loc[(diet_overall_days['sex'] == 'both'), 'sex'] = 0\n",
    "diet_overall_days.loc[(diet_overall_days['sex'] == 'female'), 'sex'] = 1"
   ]
  },
  {
   "cell_type": "code",
   "execution_count": 88,
   "id": "4a82a22d",
   "metadata": {},
   "outputs": [],
   "source": [
    "diet_overall_days = diet_overall_days.astype({'sex': 'float64'})\n",
    "diet_overall_days = diet_overall_days.astype({'restriction_time': 'float64'})\n",
    "diet_overall_days = diet_overall_days.astype({'restriction_persent': 'float64'})\n",
    "diet_overall_days = diet_overall_days.astype({'age': 'float64'})\n",
    "diet_overall_days = diet_overall_days.astype({'effect': 'float64'})"
   ]
  },
  {
   "cell_type": "markdown",
   "id": "90749fe3",
   "metadata": {},
   "source": [
    "#### В случае перевода из месяца в дни было взята цифра 30, так как при расчете среднего значения дней в году к месяцу, получалось значение не превышающее 30,33..."
   ]
  },
  {
   "cell_type": "code",
   "execution_count": 89,
   "id": "dc4873c8",
   "metadata": {},
   "outputs": [
    {
     "name": "stdout",
     "output_type": "stream",
     "text": [
      "<class 'pandas.core.frame.DataFrame'>\n",
      "Int64Index: 83 entries, 0 to 82\n",
      "Data columns (total 11 columns):\n",
      " #   Column               Non-Null Count  Dtype  \n",
      "---  ------               --------------  -----  \n",
      " 0   Gene                 83 non-null     object \n",
      " 1   effect               83 non-null     float64\n",
      " 2   qualityType          83 non-null     object \n",
      " 3   restriction_persent  83 non-null     float64\n",
      " 4   restriction_time     83 non-null     float64\n",
      " 5   age                  83 non-null     float64\n",
      " 6   organism             83 non-null     object \n",
      " 7   line                 83 non-null     object \n",
      " 8   sex                  83 non-null     float64\n",
      " 9   sample               83 non-null     object \n",
      " 10  link                 83 non-null     object \n",
      "dtypes: float64(5), object(6)\n",
      "memory usage: 7.8+ KB\n"
     ]
    }
   ],
   "source": [
    "diet_overall_days.info()"
   ]
  },
  {
   "cell_type": "markdown",
   "id": "ebd622c7",
   "metadata": {},
   "source": [
    "#### Рассмотрим датасет expression_overall_days. Данные в столбцах age_unit, sex и effect указаны в типе object. Удобно привести к типу float и одному минимальному типу исчисления, для построения графика Heatmap. Сделаем пересчет столбцов 'age...' в days.  Также значения в столбце effect заменим на числовые значения decrease на -1 и increase на 1. Значения в столбце sex заменим на числовые значения male на -1, both на 0 и female на 1."
   ]
  },
  {
   "cell_type": "code",
   "execution_count": 90,
   "id": "4c7c82b6",
   "metadata": {},
   "outputs": [],
   "source": [
    "expression_overall_days.loc[(expression_overall_days['age unit'] == 'months'), 'age unit'] = 30\n",
    "expression_overall_days.loc[(expression_overall_days['age unit'] == 'days'), 'age unit'] = 1\n",
    "expression_overall_days.loc[(expression_overall_days['age unit'] == 'weeks'), 'age unit'] = 7\n",
    "\n",
    "expression_overall_days.loc[(expression_overall_days.effect == 'decrease'), 'effect'] = 0\n",
    "expression_overall_days.loc[(expression_overall_days.effect == 'increase'), 'effect'] = 1\n",
    "\n",
    "expression_overall_days.loc[(expression_overall_days['sex'] == 'male'), 'sex'] = -1\n",
    "expression_overall_days.loc[(expression_overall_days['sex'] == 'both'), 'sex'] = 0\n",
    "expression_overall_days.loc[(expression_overall_days['sex'] == 'female'), 'sex'] = 1"
   ]
  },
  {
   "cell_type": "code",
   "execution_count": 91,
   "id": "c45c3d2d",
   "metadata": {},
   "outputs": [],
   "source": [
    "expression_overall_days = expression_overall_days.astype({'age unit': 'float64'})\n",
    "expression_overall_days = expression_overall_days.astype({'effect': 'float64'})\n",
    "expression_overall_days = expression_overall_days.astype({'sex': 'float64'})"
   ]
  },
  {
   "cell_type": "code",
   "execution_count": 92,
   "id": "383401b4",
   "metadata": {},
   "outputs": [],
   "source": [
    "expression_overall_days['age of control - min'] = expression_overall_days['age of control - min'] * expression_overall_days['age unit']\n",
    "expression_overall_days['age of experiment - min'] = expression_overall_days['age of experiment - min'] * expression_overall_days['age unit']\n",
    "expression_overall_days['age of control - mean'] = expression_overall_days['age of control - mean'] * expression_overall_days['age unit']\n",
    "expression_overall_days['age of experiment - mean'] = expression_overall_days['age of experiment - mean'] * expression_overall_days['age unit']\n",
    "expression_overall_days['age of control - max'] = expression_overall_days['age of control - max'] * expression_overall_days['age unit']\n",
    "expression_overall_days['age of experiment - max'] = expression_overall_days['age of experiment - max'] * expression_overall_days['age unit']"
   ]
  },
  {
   "cell_type": "code",
   "execution_count": 93,
   "id": "ef70a207",
   "metadata": {},
   "outputs": [
    {
     "name": "stdout",
     "output_type": "stream",
     "text": [
      "<class 'pandas.core.frame.DataFrame'>\n",
      "Int64Index: 181 entries, 0 to 180\n",
      "Data columns (total 26 columns):\n",
      " #   Column                    Non-Null Count  Dtype  \n",
      "---  ------                    --------------  -----  \n",
      " 0   Unnamed: 0                181 non-null    object \n",
      " 1   Gene                      181 non-null    object \n",
      " 2   Gene human                181 non-null    object \n",
      " 3   effect                    181 non-null    float64\n",
      " 4   change type               181 non-null    object \n",
      " 5   expression evaluation by  181 non-null    object \n",
      " 6   sample                    181 non-null    object \n",
      " 7   model organism            181 non-null    object \n",
      " 8   line                      180 non-null    object \n",
      " 9   sex                       171 non-null    float64\n",
      " 10  change percentage         171 non-null    object \n",
      " 11  p_value                   27 non-null     object \n",
      " 12  age of control - min      2 non-null      float64\n",
      " 13  age of experiment - min   2 non-null      float64\n",
      " 14  age of control - mean     181 non-null    float64\n",
      " 15  age of experiment - mean  181 non-null    float64\n",
      " 16  age of control - max      2 non-null      float64\n",
      " 17  age of experiment - max   1 non-null      float64\n",
      " 18  age unit                  181 non-null    float64\n",
      " 19  doi                       181 non-null    object \n",
      " 20  pmid                      1 non-null      float64\n",
      " 21  Unnamed: 21               0 non-null      float64\n",
      " 22  Unnamed: 22               0 non-null      float64\n",
      " 23  Unnamed: 23               0 non-null      float64\n",
      " 24  Unnamed: 24               0 non-null      float64\n",
      " 25  Unnamed: 25               0 non-null      float64\n",
      "dtypes: float64(15), object(11)\n",
      "memory usage: 38.2+ KB\n"
     ]
    }
   ],
   "source": [
    "expression_overall_days.info()"
   ]
  },
  {
   "cell_type": "markdown",
   "id": "8719b992",
   "metadata": {},
   "source": [
    "### Шаг 5. Создадим датасеты с общими 62 генами overall_genes_effect и 9 генами max_genes_effect, имеющими больше 1 записи в обоих исходных датасетах для анализа корреляции effect "
   ]
  },
  {
   "cell_type": "markdown",
   "id": "4f130f0f",
   "metadata": {},
   "source": [
    "#### с общими 62 генами overall_genes_effect"
   ]
  },
  {
   "cell_type": "code",
   "execution_count": 94,
   "id": "fea92746",
   "metadata": {},
   "outputs": [],
   "source": [
    "diet_overall_days_effect = pd.pivot_table(diet_overall_days, values=['effect'], \n",
    "                       index='Gene', aggfunc=np.mean)\n",
    "\n",
    "expression_overall_days_effect = pd.pivot_table(expression_overall_days, values=['effect'], \n",
    "                       index='Gene', aggfunc=np.mean)"
   ]
  },
  {
   "cell_type": "code",
   "execution_count": 95,
   "id": "5b206dec",
   "metadata": {},
   "outputs": [],
   "source": [
    "diet_overall_days_effect. rename(columns = {'effect':'effect_diet'}, inplace = True )"
   ]
  },
  {
   "cell_type": "code",
   "execution_count": 96,
   "id": "defe464e",
   "metadata": {},
   "outputs": [],
   "source": [
    "overall_genes_effect = pd.merge(diet_overall_days_effect, expression_overall_days_effect, on = 'Gene', how = 'inner')"
   ]
  },
  {
   "cell_type": "code",
   "execution_count": 97,
   "id": "8fb02093",
   "metadata": {},
   "outputs": [],
   "source": [
    "overall_genes_effect = overall_genes_effect.reset_index().rename_axis(None,axis=1)"
   ]
  },
  {
   "cell_type": "code",
   "execution_count": 98,
   "id": "de82dc5c",
   "metadata": {},
   "outputs": [],
   "source": [
    "overall_genes_effect = overall_genes_effect.assign(Gene_d = overall_genes_effect.Gene)\n",
    "overall_genes_effect.insert(2, \"effect_all\", 0)"
   ]
  },
  {
   "cell_type": "code",
   "execution_count": 99,
   "id": "bc2f28e2",
   "metadata": {},
   "outputs": [
    {
     "data": {
      "text/html": [
       "<div>\n",
       "<style scoped>\n",
       "    .dataframe tbody tr th:only-of-type {\n",
       "        vertical-align: middle;\n",
       "    }\n",
       "\n",
       "    .dataframe tbody tr th {\n",
       "        vertical-align: top;\n",
       "    }\n",
       "\n",
       "    .dataframe thead th {\n",
       "        text-align: right;\n",
       "    }\n",
       "</style>\n",
       "<table border=\"1\" class=\"dataframe\">\n",
       "  <thead>\n",
       "    <tr style=\"text-align: right;\">\n",
       "      <th></th>\n",
       "      <th>Gene</th>\n",
       "      <th>effect_diet</th>\n",
       "      <th>effect_all</th>\n",
       "      <th>effect</th>\n",
       "      <th>Gene_d</th>\n",
       "    </tr>\n",
       "  </thead>\n",
       "  <tbody>\n",
       "    <tr>\n",
       "      <th>0</th>\n",
       "      <td>Acox1</td>\n",
       "      <td>0.0</td>\n",
       "      <td>0</td>\n",
       "      <td>1.000000</td>\n",
       "      <td>Acox1</td>\n",
       "    </tr>\n",
       "    <tr>\n",
       "      <th>1</th>\n",
       "      <td>Adamts1</td>\n",
       "      <td>0.0</td>\n",
       "      <td>0</td>\n",
       "      <td>1.000000</td>\n",
       "      <td>Adamts1</td>\n",
       "    </tr>\n",
       "    <tr>\n",
       "      <th>2</th>\n",
       "      <td>Brca1</td>\n",
       "      <td>1.0</td>\n",
       "      <td>0</td>\n",
       "      <td>0.000000</td>\n",
       "      <td>Brca1</td>\n",
       "    </tr>\n",
       "    <tr>\n",
       "      <th>3</th>\n",
       "      <td>C1qb</td>\n",
       "      <td>0.0</td>\n",
       "      <td>0</td>\n",
       "      <td>1.000000</td>\n",
       "      <td>C1qb</td>\n",
       "    </tr>\n",
       "    <tr>\n",
       "      <th>4</th>\n",
       "      <td>Ccnd1</td>\n",
       "      <td>0.5</td>\n",
       "      <td>0</td>\n",
       "      <td>1.000000</td>\n",
       "      <td>Ccnd1</td>\n",
       "    </tr>\n",
       "    <tr>\n",
       "      <th>...</th>\n",
       "      <td>...</td>\n",
       "      <td>...</td>\n",
       "      <td>...</td>\n",
       "      <td>...</td>\n",
       "      <td>...</td>\n",
       "    </tr>\n",
       "    <tr>\n",
       "      <th>57</th>\n",
       "      <td>Wnt4</td>\n",
       "      <td>0.5</td>\n",
       "      <td>0</td>\n",
       "      <td>0.000000</td>\n",
       "      <td>Wnt4</td>\n",
       "    </tr>\n",
       "    <tr>\n",
       "      <th>58</th>\n",
       "      <td>Wnt5a</td>\n",
       "      <td>0.5</td>\n",
       "      <td>0</td>\n",
       "      <td>0.400000</td>\n",
       "      <td>Wnt5a</td>\n",
       "    </tr>\n",
       "    <tr>\n",
       "      <th>59</th>\n",
       "      <td>Wnt5b</td>\n",
       "      <td>1.0</td>\n",
       "      <td>0</td>\n",
       "      <td>0.222222</td>\n",
       "      <td>Wnt5b</td>\n",
       "    </tr>\n",
       "    <tr>\n",
       "      <th>60</th>\n",
       "      <td>Wnt9b</td>\n",
       "      <td>0.0</td>\n",
       "      <td>0</td>\n",
       "      <td>0.000000</td>\n",
       "      <td>Wnt9b</td>\n",
       "    </tr>\n",
       "    <tr>\n",
       "      <th>61</th>\n",
       "      <td>Zfyve9</td>\n",
       "      <td>1.0</td>\n",
       "      <td>0</td>\n",
       "      <td>0.000000</td>\n",
       "      <td>Zfyve9</td>\n",
       "    </tr>\n",
       "  </tbody>\n",
       "</table>\n",
       "<p>62 rows × 5 columns</p>\n",
       "</div>"
      ],
      "text/plain": [
       "       Gene  effect_diet  effect_all    effect   Gene_d\n",
       "0     Acox1          0.0           0  1.000000    Acox1\n",
       "1   Adamts1          0.0           0  1.000000  Adamts1\n",
       "2     Brca1          1.0           0  0.000000    Brca1\n",
       "3      C1qb          0.0           0  1.000000     C1qb\n",
       "4     Ccnd1          0.5           0  1.000000    Ccnd1\n",
       "..      ...          ...         ...       ...      ...\n",
       "57     Wnt4          0.5           0  0.000000     Wnt4\n",
       "58    Wnt5a          0.5           0  0.400000    Wnt5a\n",
       "59    Wnt5b          1.0           0  0.222222    Wnt5b\n",
       "60    Wnt9b          0.0           0  0.000000    Wnt9b\n",
       "61   Zfyve9          1.0           0  0.000000   Zfyve9\n",
       "\n",
       "[62 rows x 5 columns]"
      ]
     },
     "execution_count": 99,
     "metadata": {},
     "output_type": "execute_result"
    }
   ],
   "source": [
    "overall_genes_effect"
   ]
  },
  {
   "cell_type": "markdown",
   "id": "23ec7042",
   "metadata": {},
   "source": [
    "#### для 9 генов, имеющих запись больше 1 раза в обоих датасетах"
   ]
  },
  {
   "cell_type": "code",
   "execution_count": 100,
   "id": "1dbd7b5f",
   "metadata": {},
   "outputs": [],
   "source": [
    "max_genes_effect = pd.merge(overall_genes_effect, max_genes, on = 'Gene', how = 'inner')"
   ]
  },
  {
   "cell_type": "code",
   "execution_count": 101,
   "id": "e72eb6c4",
   "metadata": {},
   "outputs": [
    {
     "data": {
      "text/html": [
       "<div>\n",
       "<style scoped>\n",
       "    .dataframe tbody tr th:only-of-type {\n",
       "        vertical-align: middle;\n",
       "    }\n",
       "\n",
       "    .dataframe tbody tr th {\n",
       "        vertical-align: top;\n",
       "    }\n",
       "\n",
       "    .dataframe thead th {\n",
       "        text-align: right;\n",
       "    }\n",
       "</style>\n",
       "<table border=\"1\" class=\"dataframe\">\n",
       "  <thead>\n",
       "    <tr style=\"text-align: right;\">\n",
       "      <th></th>\n",
       "      <th>Gene</th>\n",
       "      <th>effect_diet</th>\n",
       "      <th>effect_all</th>\n",
       "      <th>effect</th>\n",
       "      <th>Gene_d</th>\n",
       "    </tr>\n",
       "  </thead>\n",
       "  <tbody>\n",
       "    <tr>\n",
       "      <th>0</th>\n",
       "      <td>Ccnd1</td>\n",
       "      <td>0.5</td>\n",
       "      <td>0</td>\n",
       "      <td>1.0</td>\n",
       "      <td>Ccnd1</td>\n",
       "    </tr>\n",
       "    <tr>\n",
       "      <th>1</th>\n",
       "      <td>Cdkn1a</td>\n",
       "      <td>0.0</td>\n",
       "      <td>0</td>\n",
       "      <td>1.0</td>\n",
       "      <td>Cdkn1a</td>\n",
       "    </tr>\n",
       "    <tr>\n",
       "      <th>2</th>\n",
       "      <td>Gclm</td>\n",
       "      <td>1.0</td>\n",
       "      <td>0</td>\n",
       "      <td>0.0</td>\n",
       "      <td>Gclm</td>\n",
       "    </tr>\n",
       "    <tr>\n",
       "      <th>3</th>\n",
       "      <td>Igfbp3</td>\n",
       "      <td>0.5</td>\n",
       "      <td>0</td>\n",
       "      <td>0.0</td>\n",
       "      <td>Igfbp3</td>\n",
       "    </tr>\n",
       "    <tr>\n",
       "      <th>4</th>\n",
       "      <td>Pdgfb</td>\n",
       "      <td>0.5</td>\n",
       "      <td>0</td>\n",
       "      <td>0.0</td>\n",
       "      <td>Pdgfb</td>\n",
       "    </tr>\n",
       "    <tr>\n",
       "      <th>5</th>\n",
       "      <td>Sncg</td>\n",
       "      <td>0.0</td>\n",
       "      <td>0</td>\n",
       "      <td>1.0</td>\n",
       "      <td>Sncg</td>\n",
       "    </tr>\n",
       "    <tr>\n",
       "      <th>6</th>\n",
       "      <td>Ucp3</td>\n",
       "      <td>0.5</td>\n",
       "      <td>0</td>\n",
       "      <td>0.5</td>\n",
       "      <td>Ucp3</td>\n",
       "    </tr>\n",
       "    <tr>\n",
       "      <th>7</th>\n",
       "      <td>Wnt4</td>\n",
       "      <td>0.5</td>\n",
       "      <td>0</td>\n",
       "      <td>0.0</td>\n",
       "      <td>Wnt4</td>\n",
       "    </tr>\n",
       "    <tr>\n",
       "      <th>8</th>\n",
       "      <td>Wnt5a</td>\n",
       "      <td>0.5</td>\n",
       "      <td>0</td>\n",
       "      <td>0.4</td>\n",
       "      <td>Wnt5a</td>\n",
       "    </tr>\n",
       "  </tbody>\n",
       "</table>\n",
       "</div>"
      ],
      "text/plain": [
       "     Gene  effect_diet  effect_all  effect  Gene_d\n",
       "0   Ccnd1          0.5           0     1.0   Ccnd1\n",
       "1  Cdkn1a          0.0           0     1.0  Cdkn1a\n",
       "2    Gclm          1.0           0     0.0    Gclm\n",
       "3  Igfbp3          0.5           0     0.0  Igfbp3\n",
       "4   Pdgfb          0.5           0     0.0   Pdgfb\n",
       "5    Sncg          0.0           0     1.0    Sncg\n",
       "6    Ucp3          0.5           0     0.5    Ucp3\n",
       "7    Wnt4          0.5           0     0.0    Wnt4\n",
       "8   Wnt5a          0.5           0     0.4   Wnt5a"
      ]
     },
     "execution_count": 101,
     "metadata": {},
     "output_type": "execute_result"
    }
   ],
   "source": [
    "max_genes_effect"
   ]
  },
  {
   "cell_type": "markdown",
   "id": "ea033465",
   "metadata": {},
   "source": [
    "### Шаг 6. Создадим функцию для цветового анализа корреляций effect"
   ]
  },
  {
   "cell_type": "markdown",
   "id": "cf07255c",
   "metadata": {},
   "source": [
    "#### \"диета и возраст увеличивают\" =  all_effect = 5\n",
    "#### \"диета увеличивает возраст уменьшает\" - Gclm = 4\n",
    "#### \"противоречивых данных\" = all_effect = 3 \n",
    "#### \"диета уменьшает возраст увеличивает\" = all_effect = 2\n",
    "#### \"диета и возраст уменьшают\" = all_effect = 1\n",
    "\n",
    "#### & = и\n",
    "#### | = или"
   ]
  },
  {
   "cell_type": "code",
   "execution_count": 102,
   "id": "71e762ae",
   "metadata": {},
   "outputs": [],
   "source": [
    "def ColorEffect (data):\n",
    "    \n",
    "        \n",
    "    data['effect_all'] = np.where((data['effect_diet'] == 1) &  (data['effect'] == 1), 5, data['effect_all'])\n",
    "    \n",
    "    data['effect_all'] = np.where((data['effect_diet'] == 1) &  (data['effect'] == 0), 4, data['effect_all'])\n",
    "    \n",
    "    data['effect_all'] = np.where(((0 < data['effect_diet']) & (data['effect_diet'] <1 ))  | \n",
    "                                  ((0 < data['effect']) & (data['effect'] < 1)), \n",
    "                                          3, data['effect_all'])\n",
    "    \n",
    "    data['effect_all'] = np.where((data['effect_diet'] == 0) &  (data['effect'] == 1), 2, data['effect_all'])\n",
    "    \n",
    "    data['effect_all'] = np.where((data['effect_diet'] == 0) &  (data['effect'] == 0), 1, data['effect_all'])\n",
    "    "
   ]
  },
  {
   "cell_type": "markdown",
   "id": "698c170f",
   "metadata": {},
   "source": [
    "### Шаг 7. Графики Heatmap для датасетов с 62 генами overall_genes_effect и 9 генами max_genes_effect, имеющими больше 1 записи в обоих исходных датасетах для анализа корреляции effect "
   ]
  },
  {
   "cell_type": "markdown",
   "id": "a542b959",
   "metadata": {},
   "source": [
    "#### Построем Heatmap для датасета с 62 генами overall_genes_effect"
   ]
  },
  {
   "cell_type": "code",
   "execution_count": 103,
   "id": "fb4f1b19",
   "metadata": {},
   "outputs": [],
   "source": [
    "heatmap_overall_effect = overall_genes_effect.copy()"
   ]
  },
  {
   "cell_type": "code",
   "execution_count": 104,
   "id": "87c51304",
   "metadata": {},
   "outputs": [],
   "source": [
    "ColorEffect(heatmap_overall_effect)"
   ]
  },
  {
   "cell_type": "code",
   "execution_count": 105,
   "id": "b349f34e",
   "metadata": {},
   "outputs": [],
   "source": [
    "heatmap_overall_effect = heatmap_overall_effect.pivot(\"Gene\", \"Gene_d\", \"effect_all\")"
   ]
  },
  {
   "cell_type": "code",
   "execution_count": 106,
   "id": "04c75b1d",
   "metadata": {},
   "outputs": [
    {
     "data": {
      "image/png": "[encoded data removed]",
      "text/plain": [
       "<Figure size 3000x3000 with 1 Axes>"
      ]
     },
     "metadata": {},
     "output_type": "display_data"
    }
   ],
   "source": [
    "sns.heatmap(heatmap_overall_effect,vmin=1, vmax=5, center= 3, cmap= 'plasma', cbar=False)\n",
    "sns.set(rc={'figure.figsize':(30,30)})\n",
    "\n",
    "plt.show()"
   ]
  },
  {
   "cell_type": "markdown",
   "id": "b471ccf5",
   "metadata": {},
   "source": [
    "#### \"диета уменьшает возраст увеличивает\" - фиолетовый цвет\n",
    "#### \"диета увеличивает возраст уменьшает\" - оранжевый цвет\n",
    "#### \"диета и возраст уменьшают\" - синий цвет\n",
    "#### \"диета и возраст увеличивают\" - желтый цвет\n",
    "#### \"противоречивых данных\" - розовый цвет"
   ]
  },
  {
   "cell_type": "markdown",
   "id": "7ff3ed83",
   "metadata": {},
   "source": [
    "#### <mark>Построем Heatmap для датасета с 9 генами max_genes_effect</mark>"
   ]
  },
  {
   "cell_type": "code",
   "execution_count": 107,
   "id": "921d1f07",
   "metadata": {},
   "outputs": [],
   "source": [
    "heatmap_max_genes_effect = max_genes_effect.copy()"
   ]
  },
  {
   "cell_type": "code",
   "execution_count": 108,
   "id": "98328d11",
   "metadata": {},
   "outputs": [],
   "source": [
    "ColorEffect(heatmap_max_genes_effect)"
   ]
  },
  {
   "cell_type": "code",
   "execution_count": 109,
   "id": "a81c3aee",
   "metadata": {},
   "outputs": [],
   "source": [
    "heatmap_max_genes_effect = heatmap_max_genes_effect.pivot(\"Gene\", \"Gene_d\", \"effect_all\")"
   ]
  },
  {
   "cell_type": "code",
   "execution_count": 110,
   "id": "8e2bf335",
   "metadata": {},
   "outputs": [
    {
     "data": {
      "image/png": "[encoded data removed]",
      "text/plain": [
       "<Figure size 3000x3000 with 1 Axes>"
      ]
     },
     "metadata": {},
     "output_type": "display_data"
    }
   ],
   "source": [
    "sns.heatmap(heatmap_max_genes_effect,vmin=1, vmax=5, center= 3, cmap= 'plasma',square=True, cbar=False)\n",
    "sns.set(rc={'figure.figsize':(8,8)})\n",
    "\n",
    "plt.show()"
   ]
  },
  {
   "cell_type": "markdown",
   "id": "9b638db1",
   "metadata": {},
   "source": [
    "#### \"диета уменьшает возраст увеличивает\" - фиолетовый цвет\n",
    "#### \"диета увеличивает возраст уменьшает\" - оранжевый цвет\n",
    "#### \"диета и возраст уменьшают\" - синий цвет\n",
    "#### \"диета и возраст увеличивают\" - желтый цвет\n",
    "#### \"противоречивых данных\" - розовый цвет"
   ]
  }
 ],
 "metadata": {
  "kernelspec": {
   "display_name": "Python 3 (ipykernel)",
   "language": "python",
   "name": "python3"
  },
  "language_info": {
   "codemirror_mode": {
    "name": "ipython",
    "version": 3
   },
   "file_extension": ".py",
   "mimetype": "text/x-python",
   "name": "python",
   "nbconvert_exporter": "python",
   "pygments_lexer": "ipython3",
   "version": "3.9.13"
  }
 },
 "nbformat": 4,
 "nbformat_minor": 5
}
